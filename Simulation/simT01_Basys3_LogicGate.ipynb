{
  "cells": [
    {
      "cell_type": "markdown",
      "metadata": {
        "id": "view-in-github",
        "colab_type": "text"
      },
      "source": [
        "<a href=\"https://colab.research.google.com/github/pe8sutd/Colab_DSL_Practice/blob/main/Simulation/simT01_Basys3_LogicGate.ipynb\" target=\"_parent\"><img src=\"https://colab.research.google.com/assets/colab-badge.svg\" alt=\"Open In Colab\"/></a>"
      ]
    },
    {
      "cell_type": "code",
      "execution_count": null,
      "metadata": {
        "id": "lu_dcXspNbUE"
      },
      "outputs": [],
      "source": [
        "print(\"[INFO]: Init the Verilog ENV\")\n",
        "!pip install git+https://github.com/pe8sutd/eda4u &> /dev/null\n",
        "!git clone https://github.com/pe8sutd/eda4u &> /dev/null\n",
        "%load_ext plugin"
      ]
    },
    {
      "cell_type": "markdown",
      "metadata": {
        "id": "vmMwh9qzrYPI"
      },
      "source": [
        "## Basic Logic Gates\n",
        "\n",
        "| sw[1] (B) | sw[0] (A) | NOT A (led[0]) | NOT B (led[1]) | AND (led[2]) | OR (led[3]) | NOR (led[4]) | NAND (led[5]) | XOR (led[6]) | XNOR (led[7]) |\n",
        "|:---------:|:---------:|:--------------:|:--------------:|:-----------:|:----------:|:-----------:|:------------:|:-----------:|:------------:|\n",
        "| 0         | 0         | 1              | 1              | 0           | 0          | 1           | 1            | 0           | 1            |\n",
        "| 0         | 1         | 0              | 1              | 0           | 1          | 0           | 1            | 1           | 0            |\n",
        "| 1         | 0         | 1              | 0              | 0           | 1          | 0           | 1            | 1           | 0            |\n",
        "| 1         | 1         | 0              | 0              | 1           | 1          | 0           | 0            | 0           | 1            |\n"
      ]
    },
    {
      "cell_type": "markdown",
      "metadata": {
        "id": "hso2fTBIrvIg"
      },
      "source": [
        "The above core can be part of the module below."
      ]
    },
    {
      "cell_type": "code",
      "execution_count": null,
      "metadata": {
        "collapsed": true,
        "id": "FMBzQsBZsINZ"
      },
      "outputs": [],
      "source": [
        "%%print_verilog\n",
        "//\n",
        "module logic_gate(\n",
        "    input [1:0] sw,      // 2-bit input (sw[1], sw[0])\n",
        "    output [7:0] led     // 8-bit output (led[7:0])\n",
        ");\n",
        "    // Logic gate implementations\n",
        "    assign led[0] = ~sw[0];       // NOT A\n",
        "    //Your Code Here;\n",
        "    //Try to use different methods e.g. assign, instance;\n",
        "endmodule"
      ]
    },
    {
      "cell_type": "code",
      "execution_count": null,
      "metadata": {
        "id": "mj-ujkGmrwN4"
      },
      "outputs": [],
      "source": [
        "%%verilog\n",
        "module logic_gate(\n",
        "    input [1:0] sw,      // 2-bit input (sw[1], sw[0])\n",
        "    output [7:0] led     // 8-bit output (led[7:0])\n",
        ");\n",
        "    // Logic gate implementations\n",
        "    assign led[0] = ~sw[0];       // NOT A\n",
        "    //Your Code Here;\n",
        "    //Try to use different methods e.g. assign, instance;\n",
        "endmodule\n",
        "////\n",
        "\n",
        "//\n",
        "module tb_logic_gates;\n",
        "\n",
        "    reg [1:0] sw;\n",
        "    wire [7:0] led;\n",
        "    logic_gate uut (sw, led);\n",
        "\n",
        "initial begin\n",
        "    $dumpfile(\"tb_logic_gates.vcd\");\n",
        "    $dumpvars(0,tb_logic_gates);\n",
        "        sw =  2'b00; #2;\n",
        "        sw =  2'b01; #2;\n",
        "        sw =  2'b10; #2;\n",
        "        sw =  2'b11; #2;\n",
        "    #1 $finish;\n",
        "\n",
        "    $dumpoff;\n",
        "end\n",
        "\n",
        "endmodule\n",
        "\n",
        "////"
      ]
    },
    {
      "cell_type": "code",
      "execution_count": null,
      "metadata": {
        "id": "grHLEhKvsNtP"
      },
      "outputs": [],
      "source": [
        "%%waveform tb_logic_gates.vcd\n",
        "sign_list = ['tb_logic_gates.sw','tb_logic_gates.led']\n",
        "time_begin = 0\n",
        "time_end = 11\n",
        "base = 'bin' # bin, dec, dec2, hex, octal"
      ]
    }
  ],
  "metadata": {
    "colab": {
      "provenance": [],
      "include_colab_link": true
    },
    "kernelspec": {
      "display_name": "Python 3",
      "name": "python3"
    },
    "language_info": {
      "codemirror_mode": {
        "name": "ipython",
        "version": 3
      },
      "file_extension": ".py",
      "mimetype": "text/x-python",
      "name": "python",
      "nbconvert_exporter": "python",
      "pygments_lexer": "ipython3",
      "version": "3.10.12"
    }
  },
  "nbformat": 4,
  "nbformat_minor": 0
}