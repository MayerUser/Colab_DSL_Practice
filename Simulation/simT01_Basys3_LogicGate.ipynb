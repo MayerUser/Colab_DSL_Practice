{
  "cells": [
    {
      "cell_type": "markdown",
      "metadata": {
        "id": "view-in-github",
        "colab_type": "text"
      },
      "source": [
        "<a href=\"https://colab.research.google.com/github/pe8sutd/Colab_DSL_Practice25/blob/main/Simulation/simT01_Basys3_LogicGate.ipynb\" target=\"_parent\"><img src=\"https://colab.research.google.com/assets/colab-badge.svg\" alt=\"Open In Colab\"/></a>"
      ]
    },
    {
      "cell_type": "code",
      "execution_count": 68,
      "metadata": {
        "id": "lu_dcXspNbUE",
        "outputId": "617cfd87-674d-4aa1-98e0-657fc9cc8150",
        "colab": {
          "base_uri": "https://localhost:8080/"
        }
      },
      "outputs": [
        {
          "output_type": "stream",
          "name": "stdout",
          "text": [
            "[INFO]: Init the Verilog ENV\n",
            "The plugin extension is already loaded. To reload it, use:\n",
            "  %reload_ext plugin\n"
          ]
        }
      ],
      "source": [
        "print(\"[INFO]: Init the Verilog ENV\")\n",
        "!pip install git+https://github.com/pe8sutd/eda4u &> /dev/null\n",
        "!git clone https://github.com/pe8sutd/eda4u &> /dev/null\n",
        "%load_ext plugin"
      ]
    },
    {
      "cell_type": "markdown",
      "metadata": {
        "id": "vmMwh9qzrYPI"
      },
      "source": [
        "## Basic Logic Gates\n",
        "\n",
        "| sw[1] (B) | sw[0] (A) | NOT A (led[0]) | NOT B (led[1]) | AND (led[2]) | OR (led[3]) | NOR (led[4]) | NAND (led[5]) | XOR (led[6]) | XNOR (led[7]) |\n",
        "|:---------:|:---------:|:--------------:|:--------------:|:-----------:|:----------:|:-----------:|:------------:|:-----------:|:------------:|\n",
        "| 0         | 0         | 1              | 1              | 0           | 0          | 1           | 1            | 0           | 1            |\n",
        "| 0         | 1         | 0              | 1              | 0           | 1          | 0           | 1            | 1           | 0            |\n",
        "| 1         | 0         | 1              | 0              | 0           | 1          | 0           | 1            | 1           | 0            |\n",
        "| 1         | 1         | 0              | 0              | 1           | 1          | 0           | 0            | 0           | 1            |\n"
      ]
    },
    {
      "cell_type": "markdown",
      "metadata": {
        "id": "hso2fTBIrvIg"
      },
      "source": [
        "The above core can be part of the module below."
      ]
    },
    {
      "cell_type": "markdown",
      "source": [
        "## NOT Gate"
      ],
      "metadata": {
        "id": "r2-oxyOkbLgx"
      }
    },
    {
      "cell_type": "code",
      "execution_count": 69,
      "metadata": {
        "collapsed": true,
        "id": "FMBzQsBZsINZ",
        "outputId": "947c657d-9028-4e77-99ef-e81086ba21bf",
        "colab": {
          "base_uri": "https://localhost:8080/",
          "height": 75
        }
      },
      "outputs": [
        {
          "output_type": "display_data",
          "data": {
            "text/plain": [
              "<IPython.core.display.SVG object>"
            ],
            "image/svg+xml": "<svg xmlns=\"http://www.w3.org/2000/svg\" xmlns:xlink=\"http://www.w3.org/1999/xlink\" xmlns:s=\"https://github.com/nturley/netlistsvg\" width=\"185\" height=\"54\"><style>svg {\n  stroke:#000;\n  fill:none;\n}\ntext {\n  fill:#000;\n  stroke:none;\n  font-size:10px;\n  font-weight: bold;\n  font-family: &quot;Courier New&quot;, monospace;\n}\nline {\n    stroke-linecap: round;\n}\n.nodelabel {\n  text-anchor: middle;\n}\n.inputPortLabel {\n  text-anchor: end;\n}\n.splitjoinBody {\n  fill:#000;\n}</style><g s:type=\"not\" transform=\"translate(78,22)\" s:width=\"30\" s:height=\"20\" id=\"cell_$not$/content/code.v:7$1\"><s:alias val=\"$_NOT_\"/><s:alias val=\"$not\"/><s:alias val=\"$logic_not\"/><path d=\"M0,0 L0,20 L20,10 Z\" class=\"cell_$not$/content/code.v:7$1\"/><circle cx=\"24\" cy=\"10\" r=\"3\" class=\"cell_$not$/content/code.v:7$1\"/><g s:x=\"-1\" s:y=\"10\" s:pid=\"A\"/><g s:x=\"27\" s:y=\"10\" s:pid=\"Y\"/></g><g s:type=\"inputExt\" transform=\"translate(12,22)\" s:width=\"30\" s:height=\"20\" id=\"cell_sw\"><text x=\"15\" y=\"-4\" class=\"nodelabel cell_sw\" s:attribute=\"ref\">sw</text><s:alias val=\"$_inputExt_\"/><path d=\"M0,0 L0,20 L15,20 L30,10 L15,0 Z\" class=\"cell_sw\"/><g s:x=\"30\" s:y=\"10\" s:pid=\"Y\"/></g><g s:type=\"outputExt\" transform=\"translate(143,22)\" s:width=\"30\" s:height=\"20\" id=\"cell_led\"><text x=\"15\" y=\"-4\" class=\"nodelabel cell_led\" s:attribute=\"ref\">led</text><s:alias val=\"$_outputExt_\"/><path d=\"M30,0 L30,20 L15,20 L0,10 L15,0 Z\" class=\"cell_led\"/><g s:x=\"0\" s:y=\"10\" s:pid=\"A\"/></g><line x1=\"42\" x2=\"77\" y1=\"32\" y2=\"32\" class=\"net_2 width_1\" style=\"stroke-width: 1\"/><line x1=\"105\" x2=\"143\" y1=\"32\" y2=\"32\" class=\"net_3 width_1\" style=\"stroke-width: 1\"/></svg>"
          },
          "metadata": {}
        }
      ],
      "source": [
        "%%print_verilog\n",
        "//\n",
        "module logic_gate(\n",
        "    input sw,      // 2-bit input (sw[1], sw[0]), use 1 bit only\n",
        "    output led     // 8-bit output (led[7:0]), use 1 bit only\n",
        ");\n",
        "    // Logic gate implementations\n",
        "    assign led = ~sw;       // NOT A\n",
        "\n",
        "    //Your Code Here;\n",
        "    //Try to use different methods e.g. assign, instance;\n",
        "endmodule\n",
        "//"
      ]
    },
    {
      "cell_type": "code",
      "execution_count": 70,
      "metadata": {
        "id": "mj-ujkGmrwN4",
        "outputId": "c9506eaa-22c5-41f4-c9f6-8f41f2fc83d5",
        "colab": {
          "base_uri": "https://localhost:8080/"
        }
      },
      "outputs": [
        {
          "output_type": "stream",
          "name": "stdout",
          "text": [
            "VCD info: dumpfile tb.vcd opened for output.\n",
            "\n"
          ]
        }
      ],
      "source": [
        "%%verilog\n",
        "//\n",
        "module logic_gate(\n",
        "    input sw,      // 2-bit input (sw[1], sw[0]), use 1 bit only\n",
        "    output led     // 8-bit output (led[7:0]), use 1 bit only\n",
        ");\n",
        "    // Logic gate implementations\n",
        "    assign led = ~sw;       // NOT A\n",
        "\n",
        "    //Your Code Here;\n",
        "    //Try to use different methods e.g. assign, instance;\n",
        "endmodule\n",
        "//\n",
        "\n",
        "//\n",
        "module tb;\n",
        "    reg sw;\n",
        "    wire led;\n",
        "\n",
        "    logic_gate uut (sw, led);\n",
        "\n",
        "initial begin\n",
        "    $dumpfile(\"tb.vcd\");\n",
        "    $dumpvars(0,tb);\n",
        "\n",
        "        sw =  1'b0;\n",
        "        #1 sw = 1'b1;\n",
        "        #1 $finish;\n",
        "\n",
        "    $dumpoff;\n",
        "end\n",
        "\n",
        "endmodule\n",
        "//"
      ]
    },
    {
      "cell_type": "code",
      "execution_count": 71,
      "metadata": {
        "id": "grHLEhKvsNtP",
        "collapsed": true,
        "outputId": "7091acb0-f3e0-45c7-9259-a491e098ad29",
        "colab": {
          "base_uri": "https://localhost:8080/",
          "height": 291
        }
      },
      "outputs": [
        {
          "output_type": "display_data",
          "data": {
            "text/plain": [
              "<Figure size 400x300 with 1 Axes>"
            ],
            "image/png": "[encoded data removed]"
          },
          "metadata": {}
        }
      ],
      "source": [
        "%%waveform tb.vcd\n",
        "sign_list = ['tb.sw','tb.led']\n",
        "time_begin = 0\n",
        "time_end = 3\n",
        "base = 'bin' # bin, dec, dec2, hex, octal"
      ]
    },
    {
      "cell_type": "markdown",
      "source": [
        "## NOT A, NOT B"
      ],
      "metadata": {
        "id": "rwOwjRwBbTmY"
      }
    },
    {
      "cell_type": "code",
      "source": [
        "%%print_verilog\n",
        "//\n",
        "module logic_gate(\n",
        "    input [1:0] sw,      // 2-bit input (sw[1], sw[0]), use 1 bit only\n",
        "    output [1:0] led     // 8-bit output (led[7:0]), use 1 bit only\n",
        ");\n",
        "    // Logic gate implementations\n",
        "    assign led[1] = ~sw[1];    // NOT B\n",
        "    assign led[0] = ~sw[0];    // NOT A\n",
        "\n",
        "    //Your Code Here;\n",
        "    //Try to use different methods e.g. assign, instance;\n",
        "endmodule\n",
        "//"
      ],
      "metadata": {
        "id": "vFZE6URW2pCp",
        "outputId": "66eefec5-c20b-415e-f7f3-b4af985e844b",
        "colab": {
          "base_uri": "https://localhost:8080/",
          "height": 140
        }
      },
      "execution_count": 92,
      "outputs": [
        {
          "output_type": "display_data",
          "data": {
            "text/plain": [
              "<IPython.core.display.SVG object>"
            ],
            "image/svg+xml": "<svg xmlns=\"http://www.w3.org/2000/svg\" xmlns:xlink=\"http://www.w3.org/1999/xlink\" xmlns:s=\"https://github.com/nturley/netlistsvg\" width=\"358\" height=\"118.5\"><style>svg {\n  stroke:#000;\n  fill:none;\n}\ntext {\n  fill:#000;\n  stroke:none;\n  font-size:10px;\n  font-weight: bold;\n  font-family: &quot;Courier New&quot;, monospace;\n}\nline {\n    stroke-linecap: round;\n}\n.nodelabel {\n  text-anchor: middle;\n}\n.inputPortLabel {\n  text-anchor: end;\n}\n.splitjoinBody {\n  fill:#000;\n}</style><g s:type=\"not\" transform=\"translate(164,67)\" s:width=\"30\" s:height=\"20\" id=\"cell_$not$/content/code.v:7$1\"><s:alias val=\"$_NOT_\"/><s:alias val=\"$not\"/><s:alias val=\"$logic_not\"/><path d=\"M0,0 L0,20 L20,10 Z\" class=\"cell_$not$/content/code.v:7$1\"/><circle cx=\"24\" cy=\"10\" r=\"3\" class=\"cell_$not$/content/code.v:7$1\"/><g s:x=\"-1\" s:y=\"10\" s:pid=\"A\"/><g s:x=\"27\" s:y=\"10\" s:pid=\"Y\"/></g><g s:type=\"not\" transform=\"translate(164,12)\" s:width=\"30\" s:height=\"20\" id=\"cell_$not$/content/code.v:8$2\"><s:alias val=\"$_NOT_\"/><s:alias val=\"$not\"/><s:alias val=\"$logic_not\"/><path d=\"M0,0 L0,20 L20,10 Z\" class=\"cell_$not$/content/code.v:8$2\"/><circle cx=\"24\" cy=\"10\" r=\"3\" class=\"cell_$not$/content/code.v:8$2\"/><g s:x=\"-1\" s:y=\"10\" s:pid=\"A\"/><g s:x=\"27\" s:y=\"10\" s:pid=\"Y\"/></g><g s:type=\"inputExt\" transform=\"translate(12,77)\" s:width=\"30\" s:height=\"20\" id=\"cell_sw\"><text x=\"15\" y=\"-4\" class=\"nodelabel cell_sw\" s:attribute=\"ref\">sw</text><s:alias val=\"$_inputExt_\"/><path d=\"M0,0 L0,20 L15,20 L30,10 L15,0 Z\" class=\"cell_sw\"/><g s:x=\"30\" s:y=\"10\" s:pid=\"Y\"/></g><g s:type=\"outputExt\" transform=\"translate(316,57)\" s:width=\"30\" s:height=\"20\" id=\"cell_led\"><text x=\"15\" y=\"-4\" class=\"nodelabel cell_led\" s:attribute=\"ref\">led</text><s:alias val=\"$_outputExt_\"/><path d=\"M30,0 L30,20 L15,20 L0,10 L15,0 Z\" class=\"cell_led\"/><g s:x=\"0\" s:y=\"10\" s:pid=\"A\"/></g><g s:type=\"join\" transform=\"translate(236,46.5)\" s:width=\"4\" s:height=\"40\" id=\"cell_$join$,4,5,\"><rect width=\"5\" height=\"40\" class=\"splitjoinBody\" s:generic=\"body\"/><s:alias val=\"$_join_\"/><g s:x=\"5\" s:y=\"20\" s:pid=\"out\"/><g transform=\"translate(0,10)\" s:x=\"0\" s:y=\"10\" s:pid=\"in0\"><text x=\"-3\" y=\"-4\" class=\"inputPortLabel\">0</text></g><g transform=\"translate(0,30)\" s:x=\"0\" s:y=\"10\" s:pid=\"in0\"><text x=\"-3\" y=\"-4\" class=\"inputPortLabel\">1</text></g></g><g s:type=\"split\" transform=\"translate(116,66.5)\" s:width=\"5\" s:height=\"40\" id=\"cell_$split$,2,3,\"><rect width=\"5\" height=\"40\" class=\"splitjoinBody\" s:generic=\"body\"/><s:alias val=\"$_split_\"/><g s:x=\"0\" s:y=\"20\" s:pid=\"in\"/><g transform=\"translate(4,10)\" s:x=\"4\" s:y=\"10\" s:pid=\"out0\"><text x=\"5\" y=\"-4\">1</text></g><g transform=\"translate(4,30)\" s:x=\"4\" s:y=\"10\" s:pid=\"out0\"><text x=\"5\" y=\"-4\">0</text></g></g><line x1=\"121\" x2=\"163\" y1=\"77\" y2=\"77\" class=\"net_3 width_1\" style=\"stroke-width: 1\"/><line x1=\"121\" x2=\"138\" y1=\"97\" y2=\"97\" class=\"net_2 width_1\" style=\"stroke-width: 1\"/><line x1=\"138\" x2=\"138\" y1=\"97\" y2=\"22\" class=\"net_2 width_1\" style=\"stroke-width: 1\"/><line x1=\"138\" x2=\"163\" y1=\"22\" y2=\"22\" class=\"net_2 width_1\" style=\"stroke-width: 1\"/><line x1=\"242\" x2=\"316\" y1=\"67\" y2=\"67\" class=\"net_4,5 width_2\" style=\"stroke-width: 2\"/><line x1=\"191\" x2=\"204\" y1=\"22\" y2=\"22\" class=\"net_4 width_1\" style=\"stroke-width: 1\"/><line x1=\"204\" x2=\"204\" y1=\"22\" y2=\"57\" class=\"net_4 width_1\" style=\"stroke-width: 1\"/><line x1=\"204\" x2=\"236\" y1=\"57\" y2=\"57\" class=\"net_4 width_1\" style=\"stroke-width: 1\"/><line x1=\"191\" x2=\"236\" y1=\"77\" y2=\"77\" class=\"net_5 width_1\" style=\"stroke-width: 1\"/><line x1=\"42\" x2=\"116\" y1=\"87\" y2=\"87\" class=\"net_2,3 width_2\" style=\"stroke-width: 2\"/><rect x=\"278\" y=\"62\" width=\"16\" height=\"9\" class=\"net_4,5 width_2 busLabel_2\" style=\"fill: white; stroke: none\"/><text x=\"277\" y=\"70\" class=\"net_4,5 width_2 busLabel_2\">/2/</text><rect x=\"78\" y=\"82\" width=\"16\" height=\"9\" class=\"net_2,3 width_2 busLabel_2\" style=\"fill: white; stroke: none\"/><text x=\"77\" y=\"90\" class=\"net_2,3 width_2 busLabel_2\">/2/</text></svg>"
          },
          "metadata": {}
        }
      ]
    },
    {
      "cell_type": "code",
      "source": [
        "%%verilog\n",
        "//\n",
        "module logic_gate(\n",
        "    input [1:0] sw,      // 2-bit input (sw[1], sw[0]), use 1 bit only\n",
        "    output [1:0] led     // 8-bit output (led[7:0]), use 1 bit only\n",
        ");\n",
        "    // Logic gate implementations\n",
        "    assign led[1] = ~sw[1];    // NOT B\n",
        "    assign led[0] = ~sw[0];    // NOT A\n",
        "\n",
        "    //Your Code Here;\n",
        "    //Try to use different methods e.g. assign, instance;\n",
        "endmodule\n",
        "//\n",
        "\n",
        "//\n",
        "module tb;\n",
        "    reg [1:0] sw;\n",
        "    wire [1:0] led;\n",
        "\n",
        "    logic_gate uut (sw, led);\n",
        "\n",
        "initial begin\n",
        "    $dumpfile(\"tb.vcd\");\n",
        "    $dumpvars(0,tb);\n",
        "\n",
        "        sw =  2'b00;\n",
        "        #1 sw = 2'b01;\n",
        "        #1 sw = 2'b10;\n",
        "        #1 sw = 2'b11;\n",
        "        #1 $finish;\n",
        "\n",
        "    $dumpoff;\n",
        "end\n",
        "\n",
        "endmodule\n",
        "//"
      ],
      "metadata": {
        "id": "jaIRF4OU5gMI",
        "outputId": "be5a5a7d-7aef-44fa-f97a-de80da244eaa",
        "colab": {
          "base_uri": "https://localhost:8080/"
        }
      },
      "execution_count": 93,
      "outputs": [
        {
          "output_type": "stream",
          "name": "stdout",
          "text": [
            "VCD info: dumpfile tb.vcd opened for output.\n",
            "\n"
          ]
        }
      ]
    },
    {
      "cell_type": "code",
      "source": [
        "%%waveform tb.vcd\n",
        "sign_list = ['tb.sw','tb.led']\n",
        "time_begin = 0\n",
        "time_end = 5\n",
        "base = 'bin' # bin, dec, dec2, hex, octal"
      ],
      "metadata": {
        "collapsed": true,
        "id": "yUrL2T5C55-Y",
        "outputId": "bb0bbc3e-791a-4eb1-9b2e-5a3bc3df6fa3",
        "colab": {
          "base_uri": "https://localhost:8080/",
          "height": 291
        }
      },
      "execution_count": 94,
      "outputs": [
        {
          "output_type": "display_data",
          "data": {
            "text/plain": [
              "<Figure size 600x300 with 1 Axes>"
            ],
            "image/png": "[encoded data removed]"
          },
          "metadata": {}
        }
      ]
    },
    {
      "cell_type": "markdown",
      "source": [
        "## Youtube"
      ],
      "metadata": {
        "id": "ll49VsMx9oWS"
      }
    },
    {
      "cell_type": "markdown",
      "source": [
        "Colab - Vivado: HDL Simulation: \\\n",
        "https://youtu.be/XHfUL1wA28E\n",
        "\n",
        "\n",
        "Colab - Vivado: HDL Syn-Impl-Prog \\\n",
        "https://youtu.be/vi_oclepHcc\n",
        "\n",
        "\n",
        "Colab - Vivado: Progrm Device (add on to the above video) \\\n",
        "https://youtu.be/qcJks7dzj-M\n"
      ],
      "metadata": {
        "id": "iJfJbrAY9sh5"
      }
    }
  ],
  "metadata": {
    "colab": {
      "provenance": [],
      "include_colab_link": true
    },
    "kernelspec": {
      "display_name": "Python 3",
      "name": "python3"
    },
    "language_info": {
      "codemirror_mode": {
        "name": "ipython",
        "version": 3
      },
      "file_extension": ".py",
      "mimetype": "text/x-python",
      "name": "python",
      "nbconvert_exporter": "python",
      "pygments_lexer": "ipython3",
      "version": "3.10.12"
    }
  },
  "nbformat": 4,
  "nbformat_minor": 0
}