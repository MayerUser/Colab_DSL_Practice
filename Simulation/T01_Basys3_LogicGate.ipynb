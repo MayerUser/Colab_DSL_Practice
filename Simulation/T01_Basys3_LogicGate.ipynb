{
  "cells": [
    {
      "cell_type": "markdown",
      "metadata": {
        "colab_type": "text",
        "id": "view-in-github"
      },
      "source": [
        "<a href=\"https://colab.research.google.com/github/pe8sutd/DSL2025/blob/main/Verilog_HDL_Block_SSD.ipynb\" target=\"_parent\"><img src=\"https://colab.research.google.com/assets/colab-badge.svg\" alt=\"Open In Colab\"/></a>"
      ]
    },
    {
      "cell_type": "code",
      "execution_count": 1,
      "metadata": {
        "id": "lu_dcXspNbUE"
      },
      "outputs": [
        {
          "name": "stdout",
          "output_type": "stream",
          "text": [
            "[INFO]: Init the Verilog ENV\n"
          ]
        },
        {
          "ename": "ModuleNotFoundError",
          "evalue": "No module named 'plugin'",
          "output_type": "error",
          "traceback": [
            "\u001b[0;31m---------------------------------------------------------------------------\u001b[0m",
            "\u001b[0;31mModuleNotFoundError\u001b[0m                       Traceback (most recent call last)",
            "Cell \u001b[0;32mIn[1], line 4\u001b[0m\n\u001b[1;32m      2\u001b[0m get_ipython()\u001b[38;5;241m.\u001b[39msystem(\u001b[38;5;124m'\u001b[39m\u001b[38;5;124mpip install git+https://github.com/pe8sutd/eda4u &> /dev/null\u001b[39m\u001b[38;5;124m'\u001b[39m)\n\u001b[1;32m      3\u001b[0m get_ipython()\u001b[38;5;241m.\u001b[39msystem(\u001b[38;5;124m'\u001b[39m\u001b[38;5;124mgit clone https://github.com/pe8sutd/eda4u &> /dev/null\u001b[39m\u001b[38;5;124m'\u001b[39m)\n\u001b[0;32m----> 4\u001b[0m \u001b[43mget_ipython\u001b[49m\u001b[43m(\u001b[49m\u001b[43m)\u001b[49m\u001b[38;5;241;43m.\u001b[39;49m\u001b[43mrun_line_magic\u001b[49m\u001b[43m(\u001b[49m\u001b[38;5;124;43m'\u001b[39;49m\u001b[38;5;124;43mload_ext\u001b[39;49m\u001b[38;5;124;43m'\u001b[39;49m\u001b[43m,\u001b[49m\u001b[43m \u001b[49m\u001b[38;5;124;43m'\u001b[39;49m\u001b[38;5;124;43mplugin\u001b[39;49m\u001b[38;5;124;43m'\u001b[39;49m\u001b[43m)\u001b[49m\n",
            "File \u001b[0;32m~/.local/lib/python3.10/site-packages/IPython/core/interactiveshell.py:2480\u001b[0m, in \u001b[0;36mInteractiveShell.run_line_magic\u001b[0;34m(self, magic_name, line, _stack_depth)\u001b[0m\n\u001b[1;32m   2478\u001b[0m     kwargs[\u001b[38;5;124m'\u001b[39m\u001b[38;5;124mlocal_ns\u001b[39m\u001b[38;5;124m'\u001b[39m] \u001b[38;5;241m=\u001b[39m \u001b[38;5;28mself\u001b[39m\u001b[38;5;241m.\u001b[39mget_local_scope(stack_depth)\n\u001b[1;32m   2479\u001b[0m \u001b[38;5;28;01mwith\u001b[39;00m \u001b[38;5;28mself\u001b[39m\u001b[38;5;241m.\u001b[39mbuiltin_trap:\n\u001b[0;32m-> 2480\u001b[0m     result \u001b[38;5;241m=\u001b[39m \u001b[43mfn\u001b[49m\u001b[43m(\u001b[49m\u001b[38;5;241;43m*\u001b[39;49m\u001b[43margs\u001b[49m\u001b[43m,\u001b[49m\u001b[43m \u001b[49m\u001b[38;5;241;43m*\u001b[39;49m\u001b[38;5;241;43m*\u001b[39;49m\u001b[43mkwargs\u001b[49m\u001b[43m)\u001b[49m\n\u001b[1;32m   2482\u001b[0m \u001b[38;5;66;03m# The code below prevents the output from being displayed\u001b[39;00m\n\u001b[1;32m   2483\u001b[0m \u001b[38;5;66;03m# when using magics with decorator @output_can_be_silenced\u001b[39;00m\n\u001b[1;32m   2484\u001b[0m \u001b[38;5;66;03m# when the last Python token in the expression is a ';'.\u001b[39;00m\n\u001b[1;32m   2485\u001b[0m \u001b[38;5;28;01mif\u001b[39;00m \u001b[38;5;28mgetattr\u001b[39m(fn, magic\u001b[38;5;241m.\u001b[39mMAGIC_OUTPUT_CAN_BE_SILENCED, \u001b[38;5;28;01mFalse\u001b[39;00m):\n",
            "File \u001b[0;32m~/.local/lib/python3.10/site-packages/IPython/core/magics/extension.py:33\u001b[0m, in \u001b[0;36mExtensionMagics.load_ext\u001b[0;34m(self, module_str)\u001b[0m\n\u001b[1;32m     31\u001b[0m \u001b[38;5;28;01mif\u001b[39;00m \u001b[38;5;129;01mnot\u001b[39;00m module_str:\n\u001b[1;32m     32\u001b[0m     \u001b[38;5;28;01mraise\u001b[39;00m UsageError(\u001b[38;5;124m'\u001b[39m\u001b[38;5;124mMissing module name.\u001b[39m\u001b[38;5;124m'\u001b[39m)\n\u001b[0;32m---> 33\u001b[0m res \u001b[38;5;241m=\u001b[39m \u001b[38;5;28;43mself\u001b[39;49m\u001b[38;5;241;43m.\u001b[39;49m\u001b[43mshell\u001b[49m\u001b[38;5;241;43m.\u001b[39;49m\u001b[43mextension_manager\u001b[49m\u001b[38;5;241;43m.\u001b[39;49m\u001b[43mload_extension\u001b[49m\u001b[43m(\u001b[49m\u001b[43mmodule_str\u001b[49m\u001b[43m)\u001b[49m\n\u001b[1;32m     35\u001b[0m \u001b[38;5;28;01mif\u001b[39;00m res \u001b[38;5;241m==\u001b[39m \u001b[38;5;124m'\u001b[39m\u001b[38;5;124malready loaded\u001b[39m\u001b[38;5;124m'\u001b[39m:\n\u001b[1;32m     36\u001b[0m     \u001b[38;5;28mprint\u001b[39m(\u001b[38;5;124m\"\u001b[39m\u001b[38;5;124mThe \u001b[39m\u001b[38;5;132;01m%s\u001b[39;00m\u001b[38;5;124m extension is already loaded. To reload it, use:\u001b[39m\u001b[38;5;124m\"\u001b[39m \u001b[38;5;241m%\u001b[39m module_str)\n",
            "File \u001b[0;32m~/.local/lib/python3.10/site-packages/IPython/core/extensions.py:62\u001b[0m, in \u001b[0;36mExtensionManager.load_extension\u001b[0;34m(self, module_str)\u001b[0m\n\u001b[1;32m     55\u001b[0m \u001b[38;5;250m\u001b[39m\u001b[38;5;124;03m\"\"\"Load an IPython extension by its module name.\u001b[39;00m\n\u001b[1;32m     56\u001b[0m \n\u001b[1;32m     57\u001b[0m \u001b[38;5;124;03mReturns the string \"already loaded\" if the extension is already loaded,\u001b[39;00m\n\u001b[1;32m     58\u001b[0m \u001b[38;5;124;03m\"no load function\" if the module doesn't have a load_ipython_extension\u001b[39;00m\n\u001b[1;32m     59\u001b[0m \u001b[38;5;124;03mfunction, or None if it succeeded.\u001b[39;00m\n\u001b[1;32m     60\u001b[0m \u001b[38;5;124;03m\"\"\"\u001b[39;00m\n\u001b[1;32m     61\u001b[0m \u001b[38;5;28;01mtry\u001b[39;00m:\n\u001b[0;32m---> 62\u001b[0m     \u001b[38;5;28;01mreturn\u001b[39;00m \u001b[38;5;28;43mself\u001b[39;49m\u001b[38;5;241;43m.\u001b[39;49m\u001b[43m_load_extension\u001b[49m\u001b[43m(\u001b[49m\u001b[43mmodule_str\u001b[49m\u001b[43m)\u001b[49m\n\u001b[1;32m     63\u001b[0m \u001b[38;5;28;01mexcept\u001b[39;00m \u001b[38;5;167;01mModuleNotFoundError\u001b[39;00m:\n\u001b[1;32m     64\u001b[0m     \u001b[38;5;28;01mif\u001b[39;00m module_str \u001b[38;5;129;01min\u001b[39;00m BUILTINS_EXTS:\n",
            "File \u001b[0;32m~/.local/lib/python3.10/site-packages/IPython/core/extensions.py:77\u001b[0m, in \u001b[0;36mExtensionManager._load_extension\u001b[0;34m(self, module_str)\u001b[0m\n\u001b[1;32m     75\u001b[0m \u001b[38;5;28;01mwith\u001b[39;00m \u001b[38;5;28mself\u001b[39m\u001b[38;5;241m.\u001b[39mshell\u001b[38;5;241m.\u001b[39mbuiltin_trap:\n\u001b[1;32m     76\u001b[0m     \u001b[38;5;28;01mif\u001b[39;00m module_str \u001b[38;5;129;01mnot\u001b[39;00m \u001b[38;5;129;01min\u001b[39;00m sys\u001b[38;5;241m.\u001b[39mmodules:\n\u001b[0;32m---> 77\u001b[0m         mod \u001b[38;5;241m=\u001b[39m \u001b[43mimport_module\u001b[49m\u001b[43m(\u001b[49m\u001b[43mmodule_str\u001b[49m\u001b[43m)\u001b[49m\n\u001b[1;32m     78\u001b[0m     mod \u001b[38;5;241m=\u001b[39m sys\u001b[38;5;241m.\u001b[39mmodules[module_str]\n\u001b[1;32m     79\u001b[0m     \u001b[38;5;28;01mif\u001b[39;00m \u001b[38;5;28mself\u001b[39m\u001b[38;5;241m.\u001b[39m_call_load_ipython_extension(mod):\n",
            "File \u001b[0;32m/usr/lib/python3.10/importlib/__init__.py:126\u001b[0m, in \u001b[0;36mimport_module\u001b[0;34m(name, package)\u001b[0m\n\u001b[1;32m    124\u001b[0m             \u001b[38;5;28;01mbreak\u001b[39;00m\n\u001b[1;32m    125\u001b[0m         level \u001b[38;5;241m+\u001b[39m\u001b[38;5;241m=\u001b[39m \u001b[38;5;241m1\u001b[39m\n\u001b[0;32m--> 126\u001b[0m \u001b[38;5;28;01mreturn\u001b[39;00m \u001b[43m_bootstrap\u001b[49m\u001b[38;5;241;43m.\u001b[39;49m\u001b[43m_gcd_import\u001b[49m\u001b[43m(\u001b[49m\u001b[43mname\u001b[49m\u001b[43m[\u001b[49m\u001b[43mlevel\u001b[49m\u001b[43m:\u001b[49m\u001b[43m]\u001b[49m\u001b[43m,\u001b[49m\u001b[43m \u001b[49m\u001b[43mpackage\u001b[49m\u001b[43m,\u001b[49m\u001b[43m \u001b[49m\u001b[43mlevel\u001b[49m\u001b[43m)\u001b[49m\n",
            "File \u001b[0;32m<frozen importlib._bootstrap>:1050\u001b[0m, in \u001b[0;36m_gcd_import\u001b[0;34m(name, package, level)\u001b[0m\n",
            "File \u001b[0;32m<frozen importlib._bootstrap>:1027\u001b[0m, in \u001b[0;36m_find_and_load\u001b[0;34m(name, import_)\u001b[0m\n",
            "File \u001b[0;32m<frozen importlib._bootstrap>:1004\u001b[0m, in \u001b[0;36m_find_and_load_unlocked\u001b[0;34m(name, import_)\u001b[0m\n",
            "\u001b[0;31mModuleNotFoundError\u001b[0m: No module named 'plugin'"
          ]
        }
      ],
      "source": [
        "print(\"[INFO]: Init the Verilog ENV\")\n",
        "!pip install git+https://github.com/pe8sutd/eda4u &> /dev/null\n",
        "!git clone https://github.com/pe8sutd/eda4u &> /dev/null\n",
        "%load_ext plugin"
      ]
    },
    {
      "cell_type": "markdown",
      "metadata": {
        "id": "BB7ehGW4N8iA"
      },
      "source": [
        "# Verilog HDL Block - SSD (Seven Segment Display)"
      ]
    },
    {
      "cell_type": "markdown",
      "metadata": {
        "id": "vmMwh9qzrYPI"
      },
      "source": [
        "## Seven Segment Display (SSD) for Basys-3"
      ]
    },
    {
      "cell_type": "markdown",
      "metadata": {
        "id": "AmpK01sfgrJk"
      },
      "source": [
        "Table 1: Truth Table for Common Anode type BCD to Seven Segment Decoder, including DP\n",
        "\n",
        "| x | x | x  | x  | x  | x  | x | x  |    | x  | x  | x  | x  | x  | x  | x | x      | CA to DP    | CA to DP | x | DP to CA    | DP to CA | x |\n",
        "|:---:|:---:|:---:|:---:|:---:|:---:|:---:|:---:|:---:|:---:|:---:|:---:|:---:|:---:|:---:|:---:|:------:|:-----------:|:--------:|:---:|:-----------:|:--------:|:---:|\n",
        "|   |   |    |    |    |    |   |    |    |    |    |    |    |    |    |   |        |             |          |   |             |          |   |\n",
        "| d |   | d3 | d2 | d1 | d0 |   | CA | CB | CC | CD | CE | CF | CG | DP |   | Common | Cathode     | Cathode  |   | Cathode     | Cathode  | d |\n",
        "|   |   |    |    |    |    |   |    |    |    |    |    |    |    |    |   | Anode  | [7:0]       | [7:0]    |   | [7:0]       | [7:0]    |   |\n",
        "| 0 |   | 0  | 0  | 0  | 0  |   | 0  | 0  | 0  | 0  | 0  | 0  | 1  | 1  |   | 1’b1   | 8’b00000011 | 8'h03    |   | 8’b11000000 | 8'hC0    | 0 |\n",
        "|   |   |    |    |    |    |   |    |    |    |    |    |    |    |    |   |        |             |          |   |             |          |   |\n",
        "| 1 |   | 0  | 0  | 0  | 1  |   | 1  | 0  | 0  | 1  | 1  | 1  | 1  | 1  |   | 1’b1   | 8’b10011111 | 8'h9F    |   | 8’b11111001 | 8'hF9    | 1 |\n",
        "|   |   |    |    |    |    |   |    |    |    |    |    |    |    |    |   |        |             |          |   |             |          |   |\n",
        "| 2 |   | 0  | 0  | 1  | 0  |   | 0  | 0  | 1  | 0  | 0  | 1  | 0  | 1  |   | 1’b1   | 8’b00100101 | 8'h25    |   | 8’b10100100 | 8'hA4    | 2 |\n",
        "|   |   |    |    |    |    |   |    |    |    |    |    |    |    |    |   |        |             |          |   |             |          |   |\n",
        "| 3 |   | 0  | 0  | 1  | 1  |   | 0  | 0  | 0  | 0  | 1  | 1  | 0  | 1  |   | 1’b1   | 8’b00001101 | 8'h0D    |   | 8’b10110000 | 8'hB0    | 3 |\n",
        "|   |   |    |    |    |    |   |    |    |    |    |    |    |    |    |   |        |             |          |   |             |          |   |\n",
        "| 4 |   | 0  | 1  | 0  | 0  |   | 1  | 0  | 0  | 1  | 1  | 0  | 0  | 1  |   | 1’b1   | 8’b10011001 | 8'h99    |   | 8’b10011001 | 8'h99    | 4 |\n",
        "|   |   |    |    |    |    |   |    |    |    |    |    |    |    |    |   |        |             |          |   |             |          |   |\n",
        "| 5 |   | 0  | 1  | 0  | 1  |   | 0  | 1  | 0  | 0  | 1  | 0  | 0  | 1  |   | 1’b1   | 8’b01001001 | 8'h49    |   | 8’b10010010 | 8'h92    | 5 |\n",
        "|   |   |    |    |    |    |   |    |    |    |    |    |    |    |    |   |        |             |          |   |             |          |   |\n",
        "| 6 |   | 0  | 1  | 1  | 0  |   | 0  | 1  | 0  | 0  | 0  | 0  | 0  | 1  |   | 1’b1   | 8’b01000001 | 8'h41    |   | 8’b10000010 | 8'h82    | 6 |\n",
        "|   |   |    |    |    |    |   |    |    |    |    |    |    |    |    |   |        |             |          |   |             |          |   |\n",
        "| 7 |   | 0  | 1  | 1  | 1  |   | 0  | 0  | 0  | 1  | 1  | 1  | 1  | 1  |   | 1’b1   | 8’b00011111 | 8'h1F    |   | 8’b11111000 | 8'hF8    | 7 |\n",
        "|   |   |    |    |    |    |   |    |    |    |    |    |    |    |    |   |        |             |          |   |             |          |   |\n",
        "| 8 |   | 1  | 0  | 0  | 0  |   | 0  | 0  | 0  | 0  | 0  | 0  | 0  | 1  |   | 1’b1   | 8’b00000001 | 8'h01    |   | 8’b10000000 | 8'h80    | 8 |\n",
        "|   |   |    |    |    |    |   |    |    |    |    |    |    |    |    |   |        |             |          |   |             |          |   |\n",
        "| 9 |   | 1  | 0  | 0  | 1  |   | 0  | 0  | 0  | 0  | 1  | 0  | 0  | 1  |   | 1’b1   | 8’b00001001 | 8'h09    |   | 8’b10010000 | 8'h09    | 9 |\n",
        "\n",
        "\n",
        "\n"
      ]
    },
    {
      "cell_type": "markdown",
      "metadata": {
        "id": "shxev8YRheYc"
      },
      "source": [
        "## Look-up Table using \"case\" statement"
      ]
    },
    {
      "cell_type": "markdown",
      "metadata": {
        "id": "Z6O9FPhzrPII"
      },
      "source": [
        "Using case statement, the Verilog code for this module can be implemented by directly mapping the Truth Table to the case statement. Take note to include a default statement."
      ]
    },
    {
      "cell_type": "markdown",
      "metadata": {
        "id": "goGzViNFeG02"
      },
      "source": [
        "\n",
        "```\n",
        "//Decode BCD NUM into corrosponding 7Segment Code; dp to ca\n",
        "//in binary\n",
        "always @(cur_num_r) begin\n",
        "    case(cur_num_r)\n",
        "        4'b0000:segment_r <= 8'b11000000;    //NUM \"0\"\n",
        "        4'b0001:segment_r <= 8'b11111001;    //NUM \"1\"\n",
        "        4'b0010:segment_r <= 8'b10100100;    //NUM \"2\"\n",
        "        4'b0011:segment_r <= 8'b10110000;    //NUM \"3\"\n",
        "        4'b0100:segment_r <= 8'b10011001;    //NUM \"4\"\n",
        "        4'b0101:segment_r <= 8'b10010010;    //NUM \"5\"\n",
        "        4'b0110:segment_r <= 8'b10000010;    //NUM \"6\"\n",
        "        4'b0111:segment_r <= 8'h11111000;    //NUM \"7\"\n",
        "        4'b1000:segment_r <= 8'h10000000;    //NUM \"8\"\n",
        "        4'b1001:segment_r <= 8'h10010000;    //NUM \"9\"\n",
        "        default: segment_r <= 8'hff;\n",
        "    endcase\n",
        "end\n",
        "```\n",
        "\n",
        "The binary number is more often represented in hex.\n",
        "\n",
        "```\n",
        "//Decode BCD NUM into corrosponding 7Segment Code; dp to ca\n",
        "//in hex\n",
        "always @(cur_num_r)\n",
        "begin\n",
        "    case(cur_num_r)\n",
        "        4'd0:segment_r <= 8'hc0;    //NUM \"0\"\n",
        "        4'd1:segment_r <= 8'hf9;    //NUM \"1\"\n",
        "        4'd2:segment_r <= 8'ha4;    //NUM \"2\"\n",
        "        4'd3:segment_r <= 8'hb0;    //NUM \"3\"\n",
        "        4'd4:segment_r <= 8'h99;    //NUM \"4\"\n",
        "        4'd5:segment_r <= 8'h92;    //NUM \"5\"\n",
        "        4'd6:segment_r <= 8'h82;    //NUM \"6\"\n",
        "        4'd7:segment_r <= 8'hF8;    //NUM \"7\"\n",
        "        4'd8:segment_r <= 8'h80;    //NUM \"8\"\n",
        "        4'd9:segment_r <= 8'h90;    //NUM \"9\"\n",
        "        default: segment_r <= 8'hff;\n",
        "    endcase\n",
        "end\n",
        "```\n"
      ]
    },
    {
      "cell_type": "markdown",
      "metadata": {
        "id": "hso2fTBIrvIg"
      },
      "source": [
        "The above core can be part of the module below."
      ]
    },
    {
      "cell_type": "code",
      "execution_count": null,
      "metadata": {
        "collapsed": true,
        "id": "FMBzQsBZsINZ"
      },
      "outputs": [],
      "source": [
        "%%print_verilog\n",
        "//\n",
        "module logic_gate(\n",
        "    input sw[1:0],\n",
        "    output led[7:0]\n",
        ");\n",
        "\n",
        "endmodule"
      ]
    },
    {
      "cell_type": "code",
      "execution_count": null,
      "metadata": {
        "id": "mj-ujkGmrwN4"
      },
      "outputs": [],
      "source": [
        "%%verilog\n",
        "\n",
        "//\n",
        "module b7a(segment_r,cur_num_r);\n",
        " output [7:0] segment_r;\n",
        " input [3:0] cur_num_r;\n",
        "\n",
        "reg [7:0] segment_r;        //Register - Drive 7 Segment\n",
        "\n",
        "//Decode BCD NUM into corrosponding 7Segment Code; dp to ca\n",
        "//in binary\n",
        "always @(cur_num_r)\n",
        "begin\n",
        "    case(cur_num_r)\n",
        "        4'b0000:segment_r <= 8'b11000000;    //NUM \"0\"\n",
        "        4'b0001:segment_r <= 8'b11111001;    //NUM \"1\"\n",
        "        4'b0010:segment_r <= 8'b10100100;    //NUM \"2\"\n",
        "        4'b0011:segment_r <= 8'b10110000;    //NUM \"3\"\n",
        "        4'b0100:segment_r <= 8'b10011001;    //NUM \"4\"\n",
        "        4'b0101:segment_r <= 8'b10010010;    //NUM \"5\"\n",
        "        4'b0110:segment_r <= 8'b10000010;    //NUM \"6\"\n",
        "        4'b0111:segment_r <= 8'b11111000;    //NUM \"7\"\n",
        "        4'b1000:segment_r <= 8'b10000000;    //NUM \"8\"\n",
        "        4'b1001:segment_r <= 8'b10010000;    //NUM \"9\"\n",
        "        default:segment_r <= 8'hff;\n",
        "    endcase\n",
        "end\n",
        "\n",
        "endmodule\n",
        "////\n",
        "\n",
        "//\n",
        "module b7a_tb;\n",
        " wire [7:0] segment_r;\n",
        " reg [3:0] cur_num_r;\n",
        "\n",
        "b7a b7a1(segment_r,cur_num_r);\n",
        "\n",
        "initial begin\n",
        "    $dumpfile(\"b7a.vcd\");\n",
        "    $dumpvars(0,b7a_tb);\n",
        "\n",
        "    cur_num_r=4'd0;\n",
        "    #1 cur_num_r=4'd1;\n",
        "    #1 cur_num_r=4'd2;\n",
        "    #1 cur_num_r=4'd3;\n",
        "    #1 cur_num_r=4'd4;\n",
        "    #1 cur_num_r=4'd5;\n",
        "    #1 cur_num_r=4'd6;\n",
        "    #1 cur_num_r=4'd7;\n",
        "    #1 cur_num_r=4'd8;\n",
        "    #1 cur_num_r=4'd9;\n",
        "    #1 cur_num_r=4'd10;\n",
        "    #1 cur_num_r=4'd11;\n",
        "    #1 $finish;\n",
        "\n",
        "    $dumpoff;\n",
        "end\n",
        "\n",
        "endmodule\n",
        "\n",
        "////"
      ]
    },
    {
      "cell_type": "code",
      "execution_count": null,
      "metadata": {
        "id": "grHLEhKvsNtP"
      },
      "outputs": [],
      "source": [
        "%%waveform b7a.vcd\n",
        "sign_list = ['b7a_tb.b7a1.segment_r','b7a_tb.cur_num_r']\n",
        "time_begin = 0\n",
        "time_end = 11\n",
        "base = 'hex' # bin, dec, dec2, hex, octal"
      ]
    }
  ],
  "metadata": {
    "colab": {
      "authorship_tag": "ABX9TyMKiIPwoQktCrTYJQKhARrJ",
      "include_colab_link": true,
      "provenance": []
    },
    "kernelspec": {
      "display_name": "Python 3",
      "name": "python3"
    },
    "language_info": {
      "codemirror_mode": {
        "name": "ipython",
        "version": 3
      },
      "file_extension": ".py",
      "mimetype": "text/x-python",
      "name": "python",
      "nbconvert_exporter": "python",
      "pygments_lexer": "ipython3",
      "version": "3.10.12"
    }
  },
  "nbformat": 4,
  "nbformat_minor": 0
}
