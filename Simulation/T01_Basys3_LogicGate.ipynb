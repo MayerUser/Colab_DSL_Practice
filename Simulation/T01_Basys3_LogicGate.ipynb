{
  "cells": [
    {
      "cell_type": "markdown",
      "metadata": {
        "id": "view-in-github",
        "colab_type": "text"
      },
      "source": [
        "<a href=\"https://colab.research.google.com/github/MayerUser/Colab_DSL_Practice/blob/main/Simulation/T01_Basys3_LogicGate.ipynb\" target=\"_parent\"><img src=\"https://colab.research.google.com/assets/colab-badge.svg\" alt=\"Open In Colab\"/></a>"
      ]
    },
    {
      "cell_type": "code",
      "execution_count": null,
      "metadata": {
        "id": "lu_dcXspNbUE"
      },
      "outputs": [],
      "source": [
        "print(\"[INFO]: Init the Verilog ENV\")\n",
        "!pip install git+https://github.com/pe8sutd/eda4u &> /dev/null\n",
        "!git clone https://github.com/pe8sutd/eda4u &> /dev/null\n",
        "%load_ext plugin"
      ]
    },
    {
      "cell_type": "markdown",
      "metadata": {
        "id": "vmMwh9qzrYPI"
      },
      "source": [
        "## Basic Logic Gates\n",
        "\n",
        "| sw[1] (B) | sw[0] (A) | NOT A (led[0]) | NOT B (led[1]) | AND (led[2]) | OR (led[3]) | NOR (led[4]) | NAND (led[5]) | XOR (led[6]) | XNOR (led[7]) |\n",
        "|:---------:|:---------:|:--------------:|:--------------:|:-----------:|:----------:|:-----------:|:------------:|:-----------:|:------------:|\n",
        "| 0         | 0         | 1              | 1              | 0           | 0          | 1           | 1            | 0           | 1            |\n",
        "| 0         | 1         | 0              | 1              | 0           | 1          | 0           | 1            | 1           | 0            |\n",
        "| 1         | 0         | 1              | 0              | 0           | 1          | 0           | 1            | 1           | 0            |\n",
        "| 1         | 1         | 0              | 0              | 1           | 1          | 0           | 0            | 0           | 1            |\n"
      ]
    },
    {
      "cell_type": "markdown",
      "metadata": {
        "id": "hso2fTBIrvIg"
      },
      "source": [
        "The above core can be part of the module below."
      ]
    },
    {
      "cell_type": "code",
      "execution_count": null,
      "metadata": {
        "collapsed": true,
        "id": "FMBzQsBZsINZ"
      },
      "outputs": [],
      "source": [
        "%%print_verilog\n",
        "//\n",
        "module logic_gate(\n",
        "    input sw[1:0],\n",
        "    output led[7:0]\n",
        ");\n",
        "// Will Remove\n",
        "       assign led[0] = ~sw0;       // NOT A\n",
        "       assign led[1] = ~sw1;       // NOT B\n",
        "       assign led[2] = sw0 & sw1;  // AND\n",
        "       assign led[3] = sw0 | sw1;  // OR\n",
        "       assign led[4] = ~(sw0 | sw1); // NOR\n",
        "       assign led[5] = ~(sw0 & sw1); // NAND\n",
        "       assign led[6] = sw0 ^ sw1;  // XOR\n",
        "       assign led[7] = ~(sw0 ^ sw1); // XNOR\n",
        "\n",
        "endmodule"
      ]
    },
    {
      "cell_type": "code",
      "execution_count": null,
      "metadata": {
        "id": "mj-ujkGmrwN4"
      },
      "outputs": [],
      "source": [
        "%%verilog\n",
        "module logic_gate(\n",
        "    input sw[1:0],\n",
        "    output led[7:0]\n",
        ");\n",
        "// Will Remove\n",
        "       assign led[0] = ~sw[0];       // NOT A\n",
        "       assign led[1] = ~sw[1];       // NOT B\n",
        "       assign led[2] = sw[0] & sw[1];  // AND\n",
        "       assign led[3] = sw[0] | sw[1];  // OR\n",
        "       assign led[4] = ~(sw[0] | sw[1]); // NOR\n",
        "       assign led[5] = ~(sw[0] & sw[1]); // NAND\n",
        "       assign led[6] = sw[0] ^ sw[1];  // XOR\n",
        "       assign led[7] = ~(sw[0] ^ sw[1]); // XNOR\n",
        "\n",
        "endmodule\n",
        "////\n",
        "\n",
        "//\n",
        "module tb_logic_gates;\n",
        "\n",
        "    reg [1:0] sw;\n",
        "    wire [7:0] led;\n",
        "    logic_gate uut (sw, led);\n",
        "\n",
        "initial begin\n",
        "    $dumpfile(\"tb_logic_gates.vcd\");\n",
        "    $dumpvars(0,tb_logic_gates);\n",
        "        sw =  2'b00; #2;\n",
        "        sw =  2'b01; #2;\n",
        "        sw =  2'b10; #2;\n",
        "        sw =  2'b11; #2;\n",
        "    #1 $finish;\n",
        "\n",
        "    $dumpoff;\n",
        "end\n",
        "\n",
        "endmodule\n",
        "\n",
        "////"
      ]
    },
    {
      "cell_type": "code",
      "execution_count": null,
      "metadata": {
        "id": "grHLEhKvsNtP"
      },
      "outputs": [],
      "source": [
        "%%waveform b7a.vcd\n",
        "sign_list = ['tb_logic_gates.sw0','tb_logic_gates.led']\n",
        "time_begin = 0\n",
        "time_end = 11\n",
        "base = 'bin' # bin, dec, dec2, hex, octal"
      ]
    }
  ],
  "metadata": {
    "colab": {
      "provenance": [],
      "include_colab_link": true
    },
    "kernelspec": {
      "display_name": "Python 3",
      "name": "python3"
    },
    "language_info": {
      "codemirror_mode": {
        "name": "ipython",
        "version": 3
      },
      "file_extension": ".py",
      "mimetype": "text/x-python",
      "name": "python",
      "nbconvert_exporter": "python",
      "pygments_lexer": "ipython3",
      "version": "3.10.12"
    }
  },
  "nbformat": 4,
  "nbformat_minor": 0
}