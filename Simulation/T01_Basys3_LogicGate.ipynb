{
  "cells": [
    {
      "cell_type": "markdown",
      "metadata": {
        "id": "view-in-github",
        "colab_type": "text"
      },
      "source": [
        "<a href=\"https://colab.research.google.com/github/MayerUser/Colab_DSL_Practice/blob/main/Simulation/T01_Basys3_LogicGate.ipynb\" target=\"_parent\"><img src=\"https://colab.research.google.com/assets/colab-badge.svg\" alt=\"Open In Colab\"/></a>"
      ]
    },
    {
      "cell_type": "code",
      "execution_count": 1,
      "metadata": {
        "id": "lu_dcXspNbUE",
        "colab": {
          "base_uri": "https://localhost:8080/",
          "height": 35
        },
        "outputId": "95be6098-1181-43fd-f0d3-22fcaafd55e9"
      },
      "outputs": [
        {
          "output_type": "stream",
          "name": "stdout",
          "text": [
            "[INFO]: Init the Verilog ENV\n"
          ]
        }
      ],
      "source": [
        "print(\"[INFO]: Init the Verilog ENV\")\n",
        "!pip install git+https://github.com/pe8sutd/eda4u &> /dev/null\n",
        "!git clone https://github.com/pe8sutd/eda4u &> /dev/null\n",
        "%load_ext plugin"
      ]
    },
    {
      "cell_type": "markdown",
      "metadata": {
        "id": "vmMwh9qzrYPI"
      },
      "source": [
        "## Basic Logic Gates\n",
        "\n",
        "| sw[1] (B) | sw[0] (A) | NOT A (led[0]) | NOT B (led[1]) | AND (led[2]) | OR (led[3]) | NOR (led[4]) | NAND (led[5]) | XOR (led[6]) | XNOR (led[7]) |\n",
        "|:---------:|:---------:|:--------------:|:--------------:|:-----------:|:----------:|:-----------:|:------------:|:-----------:|:------------:|\n",
        "| 0         | 0         | 1              | 1              | 0           | 0          | 1           | 1            | 0           | 1            |\n",
        "| 0         | 1         | 0              | 1              | 0           | 1          | 0           | 1            | 1           | 0            |\n",
        "| 1         | 0         | 1              | 0              | 0           | 1          | 0           | 1            | 1           | 0            |\n",
        "| 1         | 1         | 0              | 0              | 1           | 1          | 0           | 0            | 0           | 1            |\n"
      ]
    },
    {
      "cell_type": "markdown",
      "metadata": {
        "id": "hso2fTBIrvIg"
      },
      "source": [
        "The above core can be part of the module below."
      ]
    },
    {
      "cell_type": "code",
      "execution_count": 10,
      "metadata": {
        "collapsed": true,
        "id": "FMBzQsBZsINZ",
        "colab": {
          "base_uri": "https://localhost:8080/",
          "height": 321
        },
        "outputId": "53556f1b-d1af-415b-8705-3c3b0fddaa96"
      },
      "outputs": [
        {
          "output_type": "display_data",
          "data": {
            "text/plain": [
              "<IPython.core.display.SVG object>"
            ],
            "image/svg+xml": "<svg xmlns=\"http://www.w3.org/2000/svg\" xmlns:xlink=\"http://www.w3.org/1999/xlink\" xmlns:s=\"https://github.com/nturley/netlistsvg\" width=\"436\" height=\"299.5\"><style>svg {\n  stroke:#000;\n  fill:none;\n}\ntext {\n  fill:#000;\n  stroke:none;\n  font-size:10px;\n  font-weight: bold;\n  font-family: &quot;Courier New&quot;, monospace;\n}\nline {\n    stroke-linecap: round;\n}\n.nodelabel {\n  text-anchor: middle;\n}\n.inputPortLabel {\n  text-anchor: end;\n}\n.splitjoinBody {\n  fill:#000;\n}</style><g s:type=\"and\" transform=\"translate(164,88)\" s:width=\"30\" s:height=\"25\" id=\"cell_$and$/content/code.v:12$7\"><s:alias val=\"$and\"/><s:alias val=\"$logic_and\"/><s:alias val=\"$_AND_\"/><s:alias val=\"$reduce_and\"/><path d=\"M0,0 L0,25 L15,25 A15 12.5 0 0 0 15,0 Z\" class=\"cell_$and$/content/code.v:12$7\"/><g s:x=\"0\" s:y=\"5\" s:pid=\"A\"/><g s:x=\"0\" s:y=\"20\" s:pid=\"B\"/><g s:x=\"30\" s:y=\"12.5\" s:pid=\"Y\"/></g><g s:type=\"not\" transform=\"translate(232,171.5)\" s:width=\"30\" s:height=\"20\" id=\"cell_$not$/content/code.v:11$6\"><s:alias val=\"$_NOT_\"/><s:alias val=\"$not\"/><s:alias val=\"$logic_not\"/><path d=\"M0,0 L0,20 L20,10 Z\" class=\"cell_$not$/content/code.v:11$6\"/><circle cx=\"24\" cy=\"10\" r=\"3\" class=\"cell_$not$/content/code.v:11$6\"/><g s:x=\"-1\" s:y=\"10\" s:pid=\"A\"/><g s:x=\"27\" s:y=\"10\" s:pid=\"Y\"/></g><g s:type=\"not\" transform=\"translate(232,226.5)\" s:width=\"30\" s:height=\"20\" id=\"cell_$not$/content/code.v:12$8\"><s:alias val=\"$_NOT_\"/><s:alias val=\"$not\"/><s:alias val=\"$logic_not\"/><path d=\"M0,0 L0,20 L20,10 Z\" class=\"cell_$not$/content/code.v:12$8\"/><circle cx=\"24\" cy=\"10\" r=\"3\" class=\"cell_$not$/content/code.v:12$8\"/><g s:x=\"-1\" s:y=\"10\" s:pid=\"A\"/><g s:x=\"27\" s:y=\"10\" s:pid=\"Y\"/></g><g s:type=\"not\" transform=\"translate(232,267.5)\" s:width=\"30\" s:height=\"20\" id=\"cell_$not$/content/code.v:14$11\"><s:alias val=\"$_NOT_\"/><s:alias val=\"$not\"/><s:alias val=\"$logic_not\"/><path d=\"M0,0 L0,20 L20,10 Z\" class=\"cell_$not$/content/code.v:14$11\"/><circle cx=\"24\" cy=\"10\" r=\"3\" class=\"cell_$not$/content/code.v:14$11\"/><g s:x=\"-1\" s:y=\"10\" s:pid=\"A\"/><g s:x=\"27\" s:y=\"10\" s:pid=\"Y\"/></g><g s:type=\"not\" transform=\"translate(232,12)\" s:width=\"30\" s:height=\"20\" id=\"cell_$not$/content/code.v:7$1\"><s:alias val=\"$_NOT_\"/><s:alias val=\"$not\"/><s:alias val=\"$logic_not\"/><path d=\"M0,0 L0,20 L20,10 Z\" class=\"cell_$not$/content/code.v:7$1\"/><circle cx=\"24\" cy=\"10\" r=\"3\" class=\"cell_$not$/content/code.v:7$1\"/><g s:x=\"-1\" s:y=\"10\" s:pid=\"A\"/><g s:x=\"27\" s:y=\"10\" s:pid=\"Y\"/></g><g s:type=\"not\" transform=\"translate(232,67)\" s:width=\"30\" s:height=\"20\" id=\"cell_$not$/content/code.v:8$2\"><s:alias val=\"$_NOT_\"/><s:alias val=\"$not\"/><s:alias val=\"$logic_not\"/><path d=\"M0,0 L0,20 L20,10 Z\" class=\"cell_$not$/content/code.v:8$2\"/><circle cx=\"24\" cy=\"10\" r=\"3\" class=\"cell_$not$/content/code.v:8$2\"/><g s:x=\"-1\" s:y=\"10\" s:pid=\"A\"/><g s:x=\"27\" s:y=\"10\" s:pid=\"Y\"/></g><g s:type=\"or\" transform=\"translate(164,148)\" s:width=\"30\" s:height=\"25\" id=\"cell_$or$/content/code.v:10$4\"><s:alias val=\"$or\"/><s:alias val=\"$logic_or\"/><s:alias val=\"$_OR_\"/><s:alias val=\"$reduce_or\"/><s:alias val=\"$reduce_bool\"/><path d=\"M0,0 A30 25 0 0 1 0,25 A30 25 0 0 0 30,12.5 A30 25 0 0 0 0,0\" class=\"cell_$or$/content/code.v:10$4\"/><g s:x=\"2\" s:y=\"5\" s:pid=\"A\"/><g s:x=\"2\" s:y=\"20\" s:pid=\"B\"/><g s:x=\"30\" s:y=\"12.5\" s:pid=\"Y\"/></g><g s:type=\"reduce_xor\" transform=\"translate(163,244)\" s:width=\"33\" s:height=\"25\" id=\"cell_$xor$/content/code.v:13$9\"><s:alias val=\"$xor\"/><s:alias val=\"$reduce_xor\"/><s:alias val=\"$_XOR_\"/><path d=\"M3,0 A30 25 0 0 1 3,25 A30 25 0 0 0 33,12.5 A30 25 0 0 0 3,0\" class=\"cell_$xor$/content/code.v:13$9\"/><path d=\"M0,0 A30 25 0 0 1 0,25\" class=\"cell_$xor$/content/code.v:13$9\"/><g s:x=\"2\" s:y=\"5\" s:pid=\"A\"/><g s:x=\"2\" s:y=\"20\" s:pid=\"B\"/><g s:x=\"33\" s:y=\"12.5\" s:pid=\"Y\"/></g><g s:type=\"inputExt\" transform=\"translate(12,88)\" s:width=\"30\" s:height=\"20\" id=\"cell_sw\"><text x=\"15\" y=\"-4\" class=\"nodelabel cell_sw\" s:attribute=\"ref\">sw</text><s:alias val=\"$_inputExt_\"/><path d=\"M0,0 L0,20 L15,20 L30,10 L15,0 Z\" class=\"cell_sw\"/><g s:x=\"30\" s:y=\"10\" s:pid=\"Y\"/></g><g s:type=\"outputExt\" transform=\"translate(394,57)\" s:width=\"30\" s:height=\"20\" id=\"cell_led\"><text x=\"15\" y=\"-4\" class=\"nodelabel cell_led\" s:attribute=\"ref\">led</text><s:alias val=\"$_outputExt_\"/><path d=\"M30,0 L30,20 L15,20 L0,10 L15,0 Z\" class=\"cell_led\"/><g s:x=\"0\" s:y=\"10\" s:pid=\"A\"/></g><g s:type=\"join\" transform=\"translate(312,46.5)\" s:width=\"4\" s:height=\"40\" id=\"cell_$join$,4,5,6,7,8,9,10,11,\"><rect width=\"5\" height=\"160\" class=\"splitjoinBody\" s:generic=\"body\"/><s:alias val=\"$_join_\"/><g s:x=\"5\" s:y=\"20\" s:pid=\"out\"/><g transform=\"translate(0,10)\" s:x=\"0\" s:y=\"10\" s:pid=\"in0\"><text x=\"-3\" y=\"-4\" class=\"inputPortLabel\">0</text></g><g transform=\"translate(0,30)\" s:x=\"0\" s:y=\"10\" s:pid=\"in0\"><text x=\"-3\" y=\"-4\" class=\"inputPortLabel\">1</text></g><g transform=\"translate(0,50)\" s:x=\"0\" s:y=\"10\" s:pid=\"in0\"><text x=\"-3\" y=\"-4\" class=\"inputPortLabel\">2</text></g><g transform=\"translate(0,70)\" s:x=\"0\" s:y=\"10\" s:pid=\"in0\"><text x=\"-3\" y=\"-4\" class=\"inputPortLabel\">3</text></g><g transform=\"translate(0,90)\" s:x=\"0\" s:y=\"10\" s:pid=\"in0\"><text x=\"-3\" y=\"-4\" class=\"inputPortLabel\">4</text></g><g transform=\"translate(0,110)\" s:x=\"0\" s:y=\"10\" s:pid=\"in0\"><text x=\"-3\" y=\"-4\" class=\"inputPortLabel\">5</text></g><g transform=\"translate(0,130)\" s:x=\"0\" s:y=\"10\" s:pid=\"in0\"><text x=\"-3\" y=\"-4\" class=\"inputPortLabel\">6</text></g><g transform=\"translate(0,150)\" s:x=\"0\" s:y=\"10\" s:pid=\"in0\"><text x=\"-3\" y=\"-4\" class=\"inputPortLabel\">7</text></g></g><g s:type=\"split\" transform=\"translate(116,77.5)\" s:width=\"5\" s:height=\"40\" id=\"cell_$split$,2,3,\"><rect width=\"5\" height=\"40\" class=\"splitjoinBody\" s:generic=\"body\"/><s:alias val=\"$_split_\"/><g s:x=\"0\" s:y=\"20\" s:pid=\"in\"/><g transform=\"translate(4,10)\" s:x=\"4\" s:y=\"10\" s:pid=\"out0\"><text x=\"5\" y=\"-4\">0</text></g><g transform=\"translate(4,30)\" s:x=\"4\" s:y=\"10\" s:pid=\"out0\"><text x=\"5\" y=\"-4\">1</text></g></g><line x1=\"121\" x2=\"148\" y1=\"88\" y2=\"88\" class=\"net_2 width_1\" style=\"stroke-width: 1\"/><line x1=\"148\" x2=\"148\" y1=\"88\" y2=\"93\" class=\"net_2 width_1\" style=\"stroke-width: 1\"/><circle cx=\"148\" cy=\"88\" r=\"2\" style=\"fill:#000\" class=\"net_2 width_1\"/><circle cx=\"148\" cy=\"93\" r=\"2\" style=\"fill:#000\" class=\"net_2 width_1\"/><line x1=\"148\" x2=\"164\" y1=\"93\" y2=\"93\" class=\"net_2 width_1\" style=\"stroke-width: 1\"/><line x1=\"121\" x2=\"148\" y1=\"88\" y2=\"88\" class=\"net_2 width_1\" style=\"stroke-width: 1\"/><line x1=\"148\" x2=\"148\" y1=\"88\" y2=\"22\" class=\"net_2 width_1\" style=\"stroke-width: 1\"/><line x1=\"148\" x2=\"231\" y1=\"22\" y2=\"22\" class=\"net_2 width_1\" style=\"stroke-width: 1\"/><line x1=\"121\" x2=\"148\" y1=\"88\" y2=\"88\" class=\"net_2 width_1\" style=\"stroke-width: 1\"/><line x1=\"148\" x2=\"148\" y1=\"88\" y2=\"153\" class=\"net_2 width_1\" style=\"stroke-width: 1\"/><circle cx=\"148\" cy=\"153\" r=\"2\" style=\"fill:#000\" class=\"net_2 width_1\"/><line x1=\"148\" x2=\"166\" y1=\"153\" y2=\"153\" class=\"net_2 width_1\" style=\"stroke-width: 1\"/><line x1=\"121\" x2=\"148\" y1=\"88\" y2=\"88\" class=\"net_2 width_1\" style=\"stroke-width: 1\"/><line x1=\"148\" x2=\"148\" y1=\"88\" y2=\"249\" class=\"net_2 width_1\" style=\"stroke-width: 1\"/><line x1=\"148\" x2=\"165\" y1=\"249\" y2=\"249\" class=\"net_2 width_1\" style=\"stroke-width: 1\"/><line x1=\"121\" x2=\"164\" y1=\"108\" y2=\"108\" class=\"net_3 width_1\" style=\"stroke-width: 1\"/><line x1=\"121\" x2=\"138\" y1=\"108\" y2=\"108\" class=\"net_3 width_1\" style=\"stroke-width: 1\"/><line x1=\"138\" x2=\"138\" y1=\"108\" y2=\"77\" class=\"net_3 width_1\" style=\"stroke-width: 1\"/><circle cx=\"138\" cy=\"108\" r=\"2\" style=\"fill:#000\" class=\"net_3 width_1\"/><line x1=\"138\" x2=\"231\" y1=\"77\" y2=\"77\" class=\"net_3 width_1\" style=\"stroke-width: 1\"/><line x1=\"121\" x2=\"138\" y1=\"108\" y2=\"108\" class=\"net_3 width_1\" style=\"stroke-width: 1\"/><line x1=\"138\" x2=\"138\" y1=\"108\" y2=\"168\" class=\"net_3 width_1\" style=\"stroke-width: 1\"/><circle cx=\"138\" cy=\"168\" r=\"2\" style=\"fill:#000\" class=\"net_3 width_1\"/><line x1=\"138\" x2=\"166\" y1=\"168\" y2=\"168\" class=\"net_3 width_1\" style=\"stroke-width: 1\"/><line x1=\"121\" x2=\"138\" y1=\"108\" y2=\"108\" class=\"net_3 width_1\" style=\"stroke-width: 1\"/><line x1=\"138\" x2=\"138\" y1=\"108\" y2=\"264\" class=\"net_3 width_1\" style=\"stroke-width: 1\"/><line x1=\"138\" x2=\"165\" y1=\"264\" y2=\"264\" class=\"net_3 width_1\" style=\"stroke-width: 1\"/><line x1=\"194\" x2=\"216\" y1=\"160.5\" y2=\"160.5\" class=\"net_7 width_1\" style=\"stroke-width: 1\"/><line x1=\"216\" x2=\"216\" y1=\"160.5\" y2=\"181.5\" class=\"net_7 width_1\" style=\"stroke-width: 1\"/><circle cx=\"216\" cy=\"160.5\" r=\"2\" style=\"fill:#000\" class=\"net_7 width_1\"/><line x1=\"216\" x2=\"231\" y1=\"181.5\" y2=\"181.5\" class=\"net_7 width_1\" style=\"stroke-width: 1\"/><line x1=\"194\" x2=\"272\" y1=\"160.5\" y2=\"160.5\" class=\"net_7 width_1\" style=\"stroke-width: 1\"/><line x1=\"272\" x2=\"272\" y1=\"160.5\" y2=\"117\" class=\"net_7 width_1\" style=\"stroke-width: 1\"/><line x1=\"272\" x2=\"312\" y1=\"117\" y2=\"117\" class=\"net_7 width_1\" style=\"stroke-width: 1\"/><line x1=\"194\" x2=\"206\" y1=\"100.5\" y2=\"100.5\" class=\"net_6 width_1\" style=\"stroke-width: 1\"/><line x1=\"206\" x2=\"206\" y1=\"100.5\" y2=\"236.5\" class=\"net_6 width_1\" style=\"stroke-width: 1\"/><circle cx=\"206\" cy=\"100.5\" r=\"2\" style=\"fill:#000\" class=\"net_6 width_1\"/><line x1=\"206\" x2=\"231\" y1=\"236.5\" y2=\"236.5\" class=\"net_6 width_1\" style=\"stroke-width: 1\"/><line x1=\"194\" x2=\"272\" y1=\"100.5\" y2=\"100.5\" class=\"net_6 width_1\" style=\"stroke-width: 1\"/><line x1=\"272\" x2=\"272\" y1=\"100.5\" y2=\"97\" class=\"net_6 width_1\" style=\"stroke-width: 1\"/><line x1=\"272\" x2=\"312\" y1=\"97\" y2=\"97\" class=\"net_6 width_1\" style=\"stroke-width: 1\"/><line x1=\"196\" x2=\"206\" y1=\"256.5\" y2=\"256.5\" class=\"net_10 width_1\" style=\"stroke-width: 1\"/><line x1=\"206\" x2=\"206\" y1=\"256.5\" y2=\"277.5\" class=\"net_10 width_1\" style=\"stroke-width: 1\"/><circle cx=\"206\" cy=\"256.5\" r=\"2\" style=\"fill:#000\" class=\"net_10 width_1\"/><line x1=\"206\" x2=\"231\" y1=\"277.5\" y2=\"277.5\" class=\"net_10 width_1\" style=\"stroke-width: 1\"/><line x1=\"196\" x2=\"302\" y1=\"256.5\" y2=\"256.5\" class=\"net_10 width_1\" style=\"stroke-width: 1\"/><line x1=\"302\" x2=\"302\" y1=\"256.5\" y2=\"177\" class=\"net_10 width_1\" style=\"stroke-width: 1\"/><line x1=\"302\" x2=\"312\" y1=\"177\" y2=\"177\" class=\"net_10 width_1\" style=\"stroke-width: 1\"/><line x1=\"318\" x2=\"394\" y1=\"67\" y2=\"67\" class=\"net_4,5,6,7,8,9,10,11 width_8\" style=\"stroke-width: 2\"/><line x1=\"259\" x2=\"312.5\" y1=\"22\" y2=\"22\" class=\"net_4 width_1\" style=\"stroke-width: 1\"/><line x1=\"312.5\" x2=\"312.5\" y1=\"22\" y2=\"56.5\" class=\"net_4 width_1\" style=\"stroke-width: 1\"/><line x1=\"259\" x2=\"312\" y1=\"77\" y2=\"77\" class=\"net_5 width_1\" style=\"stroke-width: 1\"/><line x1=\"259\" x2=\"282\" y1=\"181.5\" y2=\"181.5\" class=\"net_8 width_1\" style=\"stroke-width: 1\"/><line x1=\"282\" x2=\"282\" y1=\"181.5\" y2=\"137\" class=\"net_8 width_1\" style=\"stroke-width: 1\"/><line x1=\"282\" x2=\"312\" y1=\"137\" y2=\"137\" class=\"net_8 width_1\" style=\"stroke-width: 1\"/><line x1=\"259\" x2=\"292\" y1=\"236.5\" y2=\"236.5\" class=\"net_9 width_1\" style=\"stroke-width: 1\"/><line x1=\"292\" x2=\"292\" y1=\"236.5\" y2=\"157\" class=\"net_9 width_1\" style=\"stroke-width: 1\"/><line x1=\"292\" x2=\"312\" y1=\"157\" y2=\"157\" class=\"net_9 width_1\" style=\"stroke-width: 1\"/><line x1=\"259\" x2=\"312.5\" y1=\"277.5\" y2=\"277.5\" class=\"net_11 width_1\" style=\"stroke-width: 1\"/><line x1=\"312.5\" x2=\"312.5\" y1=\"277.5\" y2=\"197.5\" class=\"net_11 width_1\" style=\"stroke-width: 1\"/><line x1=\"42\" x2=\"116\" y1=\"98\" y2=\"98\" class=\"net_2,3 width_2\" style=\"stroke-width: 2\"/><rect x=\"356\" y=\"62\" width=\"16\" height=\"9\" class=\"net_4,5,6,7,8,9,10,11 width_8 busLabel_8\" style=\"fill: white; stroke: none\"/><text x=\"355\" y=\"70\" class=\"net_4,5,6,7,8,9,10,11 width_8 busLabel_8\">/8/</text><rect x=\"78\" y=\"93\" width=\"16\" height=\"9\" class=\"net_2,3 width_2 busLabel_2\" style=\"fill: white; stroke: none\"/><text x=\"77\" y=\"101\" class=\"net_2,3 width_2 busLabel_2\">/2/</text></svg>"
          },
          "metadata": {}
        }
      ],
      "source": [
        "%%print_verilog\n",
        "//\n",
        "module logic_gate(\n",
        "    input [1:0] sw,      // 2-bit input (sw[1], sw[0])\n",
        "    output [7:0] led     // 8-bit output (led[7:0])\n",
        ");\n",
        "    // Logic gate implementations\n",
        "    assign led[0] = ~sw[0];       // NOT A\n",
        "    assign led[1] = ~sw[1];       // NOT B\n",
        "    assign led[2] = sw[0] & sw[1];  // AND\n",
        "    assign led[3] = sw[0] | sw[1];  // OR\n",
        "    assign led[4] = ~(sw[0] | sw[1]); // NOR\n",
        "    assign led[5] = ~(sw[0] & sw[1]); // NAND\n",
        "    assign led[6] = sw[0] ^ sw[1];  // XOR\n",
        "    assign led[7] = ~(sw[0] ^ sw[1]); // XNOR\n",
        "endmodule"
      ]
    },
    {
      "cell_type": "code",
      "execution_count": 11,
      "metadata": {
        "id": "mj-ujkGmrwN4",
        "colab": {
          "base_uri": "https://localhost:8080/"
        },
        "outputId": "d5362d5a-769f-4829-d3b2-bb5b358c833f"
      },
      "outputs": [
        {
          "output_type": "stream",
          "name": "stdout",
          "text": [
            "VCD info: dumpfile tb_logic_gates.vcd opened for output.\n",
            "\n"
          ]
        }
      ],
      "source": [
        "%%verilog\n",
        "module logic_gate(\n",
        "    input [1:0] sw,      // 2-bit input (sw[1], sw[0])\n",
        "    output [7:0] led     // 8-bit output (led[7:0])\n",
        ");\n",
        "    // Logic gate implementations\n",
        "    assign led[0] = ~sw[0];       // NOT A\n",
        "    assign led[1] = ~sw[1];       // NOT B\n",
        "    assign led[2] = sw[0] & sw[1];  // AND\n",
        "    assign led[3] = sw[0] | sw[1];  // OR\n",
        "    assign led[4] = ~(sw[0] | sw[1]); // NOR\n",
        "    assign led[5] = ~(sw[0] & sw[1]); // NAND\n",
        "    assign led[6] = sw[0] ^ sw[1];  // XOR\n",
        "    assign led[7] = ~(sw[0] ^ sw[1]); // XNOR\n",
        "endmodule\n",
        "////\n",
        "\n",
        "//\n",
        "module tb_logic_gates;\n",
        "\n",
        "    reg [1:0] sw;\n",
        "    wire [7:0] led;\n",
        "    logic_gate uut (sw, led);\n",
        "\n",
        "initial begin\n",
        "    $dumpfile(\"tb_logic_gates.vcd\");\n",
        "    $dumpvars(0,tb_logic_gates);\n",
        "        sw =  2'b00; #2;\n",
        "        sw =  2'b01; #2;\n",
        "        sw =  2'b10; #2;\n",
        "        sw =  2'b11; #2;\n",
        "    #1 $finish;\n",
        "\n",
        "    $dumpoff;\n",
        "end\n",
        "\n",
        "endmodule\n",
        "\n",
        "////"
      ]
    },
    {
      "cell_type": "code",
      "execution_count": 12,
      "metadata": {
        "id": "grHLEhKvsNtP",
        "colab": {
          "base_uri": "https://localhost:8080/",
          "height": 351
        },
        "outputId": "7b350f96-51b5-4445-a7c4-c0c5dae06d94"
      },
      "outputs": [
        {
          "output_type": "error",
          "ename": "FileNotFoundError",
          "evalue": "[Errno 2] No such file or directory: '/content/b7a.vcd'",
          "traceback": [
            "\u001b[0;31m---------------------------------------------------------------------------\u001b[0m",
            "\u001b[0;31mFileNotFoundError\u001b[0m                         Traceback (most recent call last)",
            "\u001b[0;32m<ipython-input-12-2fc5265e6e28>\u001b[0m in \u001b[0;36m<cell line: 0>\u001b[0;34m()\u001b[0m\n\u001b[0;32m----> 1\u001b[0;31m \u001b[0mget_ipython\u001b[0m\u001b[0;34m(\u001b[0m\u001b[0;34m)\u001b[0m\u001b[0;34m.\u001b[0m\u001b[0mrun_cell_magic\u001b[0m\u001b[0;34m(\u001b[0m\u001b[0;34m'waveform'\u001b[0m\u001b[0;34m,\u001b[0m \u001b[0;34m'b7a.vcd'\u001b[0m\u001b[0;34m,\u001b[0m \u001b[0;34m\"sign_list = ['tb_logic_gates.sw0','tb_logic_gates.led']\\ntime_begin = 0\\ntime_end = 11\\nbase = 'bin' # bin, dec, dec2, hex, octal\\n\"\u001b[0m\u001b[0;34m)\u001b[0m\u001b[0;34m\u001b[0m\u001b[0;34m\u001b[0m\u001b[0m\n\u001b[0m",
            "\u001b[0;32m/usr/local/lib/python3.11/dist-packages/google/colab/_shell.py\u001b[0m in \u001b[0;36mrun_cell_magic\u001b[0;34m(self, magic_name, line, cell)\u001b[0m\n\u001b[1;32m    332\u001b[0m     \u001b[0;32mif\u001b[0m \u001b[0mline\u001b[0m \u001b[0;32mand\u001b[0m \u001b[0;32mnot\u001b[0m \u001b[0mcell\u001b[0m\u001b[0;34m:\u001b[0m\u001b[0;34m\u001b[0m\u001b[0;34m\u001b[0m\u001b[0m\n\u001b[1;32m    333\u001b[0m       \u001b[0mcell\u001b[0m \u001b[0;34m=\u001b[0m \u001b[0;34m' '\u001b[0m\u001b[0;34m\u001b[0m\u001b[0;34m\u001b[0m\u001b[0m\n\u001b[0;32m--> 334\u001b[0;31m     \u001b[0;32mreturn\u001b[0m \u001b[0msuper\u001b[0m\u001b[0;34m(\u001b[0m\u001b[0;34m)\u001b[0m\u001b[0;34m.\u001b[0m\u001b[0mrun_cell_magic\u001b[0m\u001b[0;34m(\u001b[0m\u001b[0mmagic_name\u001b[0m\u001b[0;34m,\u001b[0m \u001b[0mline\u001b[0m\u001b[0;34m,\u001b[0m \u001b[0mcell\u001b[0m\u001b[0;34m)\u001b[0m\u001b[0;34m\u001b[0m\u001b[0;34m\u001b[0m\u001b[0m\n\u001b[0m\u001b[1;32m    335\u001b[0m \u001b[0;34m\u001b[0m\u001b[0m\n\u001b[1;32m    336\u001b[0m \u001b[0;34m\u001b[0m\u001b[0m\n",
            "\u001b[0;32m/usr/local/lib/python3.11/dist-packages/IPython/core/interactiveshell.py\u001b[0m in \u001b[0;36mrun_cell_magic\u001b[0;34m(self, magic_name, line, cell)\u001b[0m\n\u001b[1;32m   2471\u001b[0m             \u001b[0;32mwith\u001b[0m \u001b[0mself\u001b[0m\u001b[0;34m.\u001b[0m\u001b[0mbuiltin_trap\u001b[0m\u001b[0;34m:\u001b[0m\u001b[0;34m\u001b[0m\u001b[0;34m\u001b[0m\u001b[0m\n\u001b[1;32m   2472\u001b[0m                 \u001b[0margs\u001b[0m \u001b[0;34m=\u001b[0m \u001b[0;34m(\u001b[0m\u001b[0mmagic_arg_s\u001b[0m\u001b[0;34m,\u001b[0m \u001b[0mcell\u001b[0m\u001b[0;34m)\u001b[0m\u001b[0;34m\u001b[0m\u001b[0;34m\u001b[0m\u001b[0m\n\u001b[0;32m-> 2473\u001b[0;31m                 \u001b[0mresult\u001b[0m \u001b[0;34m=\u001b[0m \u001b[0mfn\u001b[0m\u001b[0;34m(\u001b[0m\u001b[0;34m*\u001b[0m\u001b[0margs\u001b[0m\u001b[0;34m,\u001b[0m \u001b[0;34m**\u001b[0m\u001b[0mkwargs\u001b[0m\u001b[0;34m)\u001b[0m\u001b[0;34m\u001b[0m\u001b[0;34m\u001b[0m\u001b[0m\n\u001b[0m\u001b[1;32m   2474\u001b[0m             \u001b[0;32mreturn\u001b[0m \u001b[0mresult\u001b[0m\u001b[0;34m\u001b[0m\u001b[0;34m\u001b[0m\u001b[0m\n\u001b[1;32m   2475\u001b[0m \u001b[0;34m\u001b[0m\u001b[0m\n",
            "\u001b[0;32m<decorator-gen-166>\u001b[0m in \u001b[0;36mwaveform\u001b[0;34m(self, line, cell)\u001b[0m\n",
            "\u001b[0;32m/usr/local/lib/python3.11/dist-packages/IPython/core/magic.py\u001b[0m in \u001b[0;36m<lambda>\u001b[0;34m(f, *a, **k)\u001b[0m\n\u001b[1;32m    185\u001b[0m     \u001b[0;31m# but it's overkill for just that one bit of state.\u001b[0m\u001b[0;34m\u001b[0m\u001b[0;34m\u001b[0m\u001b[0m\n\u001b[1;32m    186\u001b[0m     \u001b[0;32mdef\u001b[0m \u001b[0mmagic_deco\u001b[0m\u001b[0;34m(\u001b[0m\u001b[0marg\u001b[0m\u001b[0;34m)\u001b[0m\u001b[0;34m:\u001b[0m\u001b[0;34m\u001b[0m\u001b[0;34m\u001b[0m\u001b[0m\n\u001b[0;32m--> 187\u001b[0;31m         \u001b[0mcall\u001b[0m \u001b[0;34m=\u001b[0m \u001b[0;32mlambda\u001b[0m \u001b[0mf\u001b[0m\u001b[0;34m,\u001b[0m \u001b[0;34m*\u001b[0m\u001b[0ma\u001b[0m\u001b[0;34m,\u001b[0m \u001b[0;34m**\u001b[0m\u001b[0mk\u001b[0m\u001b[0;34m:\u001b[0m \u001b[0mf\u001b[0m\u001b[0;34m(\u001b[0m\u001b[0;34m*\u001b[0m\u001b[0ma\u001b[0m\u001b[0;34m,\u001b[0m \u001b[0;34m**\u001b[0m\u001b[0mk\u001b[0m\u001b[0;34m)\u001b[0m\u001b[0;34m\u001b[0m\u001b[0;34m\u001b[0m\u001b[0m\n\u001b[0m\u001b[1;32m    188\u001b[0m \u001b[0;34m\u001b[0m\u001b[0m\n\u001b[1;32m    189\u001b[0m         \u001b[0;32mif\u001b[0m \u001b[0mcallable\u001b[0m\u001b[0;34m(\u001b[0m\u001b[0marg\u001b[0m\u001b[0;34m)\u001b[0m\u001b[0;34m:\u001b[0m\u001b[0;34m\u001b[0m\u001b[0;34m\u001b[0m\u001b[0m\n",
            "\u001b[0;32m/content/cad4u/hdl/hdl.py\u001b[0m in \u001b[0;36mwaveform\u001b[0;34m(self, line, cell)\u001b[0m\n\u001b[1;32m    105\u001b[0m             \u001b[0mop_dict\u001b[0m \u001b[0;34m=\u001b[0m \u001b[0;34m[\u001b[0m\u001b[0;34m[\u001b[0m\u001b[0;34m{\u001b[0m\u001b[0;34m}\u001b[0m\u001b[0;34m]\u001b[0m\u001b[0;34m]\u001b[0m\u001b[0;34m\u001b[0m\u001b[0;34m\u001b[0m\u001b[0m\n\u001b[1;32m    106\u001b[0m \u001b[0;34m\u001b[0m\u001b[0m\n\u001b[0;32m--> 107\u001b[0;31m         \u001b[0mvcd_plt\u001b[0m \u001b[0;34m=\u001b[0m \u001b[0mVcdPlotter\u001b[0m\u001b[0;34m(\u001b[0m\u001b[0;34m\"/content/%s\"\u001b[0m \u001b[0;34m%\u001b[0m \u001b[0mname\u001b[0m\u001b[0;34m)\u001b[0m\u001b[0;34m\u001b[0m\u001b[0;34m\u001b[0m\u001b[0m\n\u001b[0m\u001b[1;32m    108\u001b[0m         \u001b[0mvcd_plt\u001b[0m\u001b[0;34m.\u001b[0m\u001b[0mshow\u001b[0m\u001b[0;34m(\u001b[0m\u001b[0mop_dict\u001b[0m\u001b[0;34m,\u001b[0m \u001b[0msign_list\u001b[0m\u001b[0;34m,\u001b[0m \u001b[0mtime_begin\u001b[0m\u001b[0;34m[\u001b[0m\u001b[0;36m0\u001b[0m\u001b[0;34m]\u001b[0m\u001b[0;34m,\u001b[0m \u001b[0mtime_end\u001b[0m\u001b[0;34m[\u001b[0m\u001b[0;36m0\u001b[0m\u001b[0;34m]\u001b[0m\u001b[0;34m,\u001b[0m \u001b[0mbase\u001b[0m\u001b[0;34m[\u001b[0m\u001b[0;36m0\u001b[0m\u001b[0;34m]\u001b[0m\u001b[0;34m)\u001b[0m\u001b[0;34m\u001b[0m\u001b[0;34m\u001b[0m\u001b[0m\n\u001b[1;32m    109\u001b[0m \u001b[0;34m\u001b[0m\u001b[0m\n",
            "\u001b[0;32m/content/cad4u/hdl/vcd_parser/vcd_plotter.py\u001b[0m in \u001b[0;36m__init__\u001b[0;34m(self, vcd_file)\u001b[0m\n\u001b[1;32m     14\u001b[0m     \u001b[0;32mdef\u001b[0m \u001b[0m__init__\u001b[0m\u001b[0;34m(\u001b[0m\u001b[0mself\u001b[0m\u001b[0;34m,\u001b[0m \u001b[0mvcd_file\u001b[0m\u001b[0;34m:\u001b[0m \u001b[0mstr\u001b[0m\u001b[0;34m)\u001b[0m\u001b[0;34m:\u001b[0m\u001b[0;34m\u001b[0m\u001b[0;34m\u001b[0m\u001b[0m\n\u001b[1;32m     15\u001b[0m         \u001b[0mself\u001b[0m\u001b[0;34m.\u001b[0m\u001b[0m__vcd_parser\u001b[0m \u001b[0;34m=\u001b[0m \u001b[0mVcdParser\u001b[0m\u001b[0;34m(\u001b[0m\u001b[0;34m)\u001b[0m\u001b[0;34m\u001b[0m\u001b[0;34m\u001b[0m\u001b[0m\n\u001b[0;32m---> 16\u001b[0;31m         \u001b[0mself\u001b[0m\u001b[0;34m.\u001b[0m\u001b[0m__signal_store\u001b[0m \u001b[0;34m=\u001b[0m \u001b[0mself\u001b[0m\u001b[0;34m.\u001b[0m\u001b[0m__vcd_parser\u001b[0m\u001b[0;34m.\u001b[0m\u001b[0mparse\u001b[0m\u001b[0;34m(\u001b[0m\u001b[0mvcd_file\u001b[0m\u001b[0;34m)\u001b[0m\u001b[0;34m\u001b[0m\u001b[0;34m\u001b[0m\u001b[0m\n\u001b[0m\u001b[1;32m     17\u001b[0m \u001b[0;34m\u001b[0m\u001b[0m\n\u001b[1;32m     18\u001b[0m     def show(\n",
            "\u001b[0;32m/content/cad4u/hdl/vcd_parser/vcd_parser.py\u001b[0m in \u001b[0;36mparse\u001b[0;34m(self, vcd_file)\u001b[0m\n\u001b[1;32m     13\u001b[0m     \u001b[0;32mdef\u001b[0m \u001b[0mparse\u001b[0m\u001b[0;34m(\u001b[0m\u001b[0mself\u001b[0m\u001b[0;34m,\u001b[0m \u001b[0mvcd_file\u001b[0m\u001b[0;34m:\u001b[0m \u001b[0mTextIO\u001b[0m\u001b[0;34m)\u001b[0m \u001b[0;34m->\u001b[0m \u001b[0mSignalStore\u001b[0m\u001b[0;34m:\u001b[0m\u001b[0;34m\u001b[0m\u001b[0;34m\u001b[0m\u001b[0m\n\u001b[1;32m     14\u001b[0m         \u001b[0msignals_store\u001b[0m \u001b[0;34m=\u001b[0m \u001b[0mSignalStore\u001b[0m\u001b[0;34m(\u001b[0m\u001b[0;34m)\u001b[0m\u001b[0;34m\u001b[0m\u001b[0;34m\u001b[0m\u001b[0m\n\u001b[0;32m---> 15\u001b[0;31m         \u001b[0;32mwith\u001b[0m \u001b[0mopen\u001b[0m\u001b[0;34m(\u001b[0m\u001b[0mvcd_file\u001b[0m\u001b[0;34m)\u001b[0m \u001b[0;32mas\u001b[0m \u001b[0mfile\u001b[0m\u001b[0;34m:\u001b[0m\u001b[0;34m\u001b[0m\u001b[0;34m\u001b[0m\u001b[0m\n\u001b[0m\u001b[1;32m     16\u001b[0m             \u001b[0mself\u001b[0m\u001b[0;34m.\u001b[0m\u001b[0mset_ids\u001b[0m\u001b[0;34m(\u001b[0m\u001b[0mfile\u001b[0m\u001b[0;34m,\u001b[0m \u001b[0msignals_store\u001b[0m\u001b[0;34m)\u001b[0m\u001b[0;34m\u001b[0m\u001b[0;34m\u001b[0m\u001b[0m\n\u001b[1;32m     17\u001b[0m             \u001b[0mself\u001b[0m\u001b[0;34m.\u001b[0m\u001b[0mload_values\u001b[0m\u001b[0;34m(\u001b[0m\u001b[0mfile\u001b[0m\u001b[0;34m,\u001b[0m \u001b[0msignals_store\u001b[0m\u001b[0;34m)\u001b[0m\u001b[0;34m\u001b[0m\u001b[0;34m\u001b[0m\u001b[0m\n",
            "\u001b[0;31mFileNotFoundError\u001b[0m: [Errno 2] No such file or directory: '/content/b7a.vcd'"
          ]
        }
      ],
      "source": [
        "%%waveform tb_logic_gates.vcd\n",
        "sign_list = ['tb_logic_gates.sw0','tb_logic_gates.led']\n",
        "time_begin = 0\n",
        "time_end = 11\n",
        "base = 'bin' # bin, dec, dec2, hex, octal"
      ]
    }
  ],
  "metadata": {
    "colab": {
      "provenance": [],
      "include_colab_link": true
    },
    "kernelspec": {
      "display_name": "Python 3",
      "name": "python3"
    },
    "language_info": {
      "codemirror_mode": {
        "name": "ipython",
        "version": 3
      },
      "file_extension": ".py",
      "mimetype": "text/x-python",
      "name": "python",
      "nbconvert_exporter": "python",
      "pygments_lexer": "ipython3",
      "version": "3.10.12"
    }
  },
  "nbformat": 4,
  "nbformat_minor": 0
}