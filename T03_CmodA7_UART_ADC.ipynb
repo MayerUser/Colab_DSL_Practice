{
 "cells": [
  {
   "cell_type": "markdown",
   "metadata": {},
   "source": [
    "# UART Tx with Parity Check\n",
    "## Description\n",
    "Implements a UART transmitter with optional parity bit functionality. This module encodes and transmits data over a serial line using the UART protocol. It supports transmitting data with start, stop, and optional parity bits, and signals the completion of transmission.\n",
    "\n",
    "## Port\n",
    "### Inputs:\n",
    "* clk: System clock signal for synchronizing the transmission process (Baud Rate).\n",
    "* ap_rstn: Asynchronous, active low reset signal to initialize or reset the module's internal states.\n",
    "* ap_ready: Input signal indicating readiness to start data transmission. When high, transmission begins.\n",
    "* pairty: Input signal to enable (when high) or disable (when low) parity bit generation and transmission.\n",
    "* data: 8-bit data input to be transmitted over UART.\n",
    "\n",
    "### Outputs:\n",
    "* ap_vaild: Output signal that indicates the completion of a data transmission cycle.\n",
    "* tx: Serial output transmitting the encoded data along with start, stop, and optional parity bits.\n",
    "\n",
    "## Local Parameters:\n",
    "* FSM_IDLE, FSM_STAR, FSM_TRSF, FSM_PARI, FSM_STOP: Represent the states of the finite state machine (FSM) controlling the UART transmission process, from idle, through start bit, data transmission, optional parity bit, and stop bit.\n",
    "\n",
    "## Internal Registers:\n",
    "* **fsm_statu**: Holds the current state of the FSM.\n",
    "* **fsm_next**: Determines the next state of the FSM based on the current state and input signals.\n",
    "* **cnter**: Counter used during the data transmission state to index through the data bits.\n",
    "\n",
    "## Behavioral Blocks:\n",
    "1. fsm statu transfer: Sequential logic block that updates the current state of the FSM on each positive clock edge or on negative edge of ap_rstn. Resets to FSM_IDLE on reset.\n",
    "2. fsm conditional transfer: Combinatorial logic block that determines the next state of the FSM based on current conditions like ap_ready signal, counter value, and parity configuration.\n",
    "3. fsm - output: Sequential logic block that performs actions based on the current FSM state, including setting the tx output according to the data bits, generating a parity bit if enabled, and indicating the end of transmission through ap_vaild signal. Also handles the initialization of internal signals on reset.\n",
    "\n",
    "## FSM Status Graph\n",
    "![UART_FSM](./figure/T03_FSM_UART.png)\n",
    "## Note:\n",
    "This module is designed to be synthesized and integrated into larger systems requiring UART transmission capabilities, with configurable support for parity bit for error detection."
   ]
  },
  {
   "cell_type": "markdown",
   "metadata": {},
   "source": []
  }
 ],
 "metadata": {
  "language_info": {
   "name": "python"
  }
 },
 "nbformat": 4,
 "nbformat_minor": 2
}
